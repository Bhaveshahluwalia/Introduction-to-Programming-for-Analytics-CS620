{
 "cells": [
  {
   "cell_type": "markdown",
   "metadata": {},
   "source": [
    "\n",
    "# CUS620, Class Exercise1\n",
    "## Your full name: \n",
    "--------------\n",
    "- ### Note1: you can use this temaplet to answer questions such as class Exercise and HWs\n",
    "- ### Note2: chnage the file name respect to type of assignment, for example: CUS620_Class_Ex1_LastName or CUS620_HW1_LastName\n",
    "---------\n",
    "### if you need help on how to write in Jupyter see here: \n",
    "- Jupyter notebook tutorial: [link](https://nbviewer.jupyter.org/github/ipython/ipython/blob/3.x/examples/Notebook/Index.ipynb)\n",
    "- basic: [link](https://docs.github.com/en/github/writing-on-github/basic-writing-and-formatting-syntax)\n",
    "- advance: [link](https://docs.github.com/en/github/writing-on-github/working-with-advanced-formatting)\n"
   ]
  },
  {
   "cell_type": "markdown",
   "metadata": {},
   "source": [
    "# Even Questions from Text book, Chapter: 2 "
   ]
  },
  {
   "cell_type": "code",
   "execution_count": 159,
   "metadata": {},
   "outputs": [],
   "source": [
    "\n",
    "# 2.12, here I provide an example question 2.12\n",
    "# Start by evalauting, in the interactive shell or jupyter, the assigining:\n",
    "#s1 = '-'\n",
    "#s2 = '+'\n",
    "# Now write string expressions involving s1 and s2 and string operators + and * that evaluate t:"
   ]
  },
  {
   "cell_type": "code",
   "execution_count": 160,
   "metadata": {},
   "outputs": [
    {
     "data": {
      "text/plain": [
       "'-+'"
      ]
     },
     "execution_count": 160,
     "metadata": {},
     "output_type": "execute_result"
    }
   ],
   "source": [
    "#2.12 (a) '-+'\n",
    "s1 = '-'\n",
    "s2 = '+'\n",
    "s1 + s2"
   ]
  },
  {
   "cell_type": "code",
   "execution_count": 161,
   "metadata": {},
   "outputs": [
    {
     "data": {
      "text/plain": [
       "'-+-'"
      ]
     },
     "execution_count": 161,
     "metadata": {},
     "output_type": "execute_result"
    }
   ],
   "source": [
    "# 2.12 (b): '-+-'\n",
    "s1 + s2 + s1"
   ]
  },
  {
   "cell_type": "code",
   "execution_count": 162,
   "metadata": {},
   "outputs": [
    {
     "data": {
      "text/plain": [
       "'+--'"
      ]
     },
     "execution_count": 162,
     "metadata": {},
     "output_type": "execute_result"
    }
   ],
   "source": [
    "#2.12 (c) '+--'\n",
    "s2 + 2*s1"
   ]
  },
  {
   "cell_type": "code",
   "execution_count": 163,
   "metadata": {},
   "outputs": [
    {
     "data": {
      "text/plain": [
       "'+--+--'"
      ]
     },
     "execution_count": 163,
     "metadata": {},
     "output_type": "execute_result"
    }
   ],
   "source": [
    "#2.12 (d) '+--+--'\n",
    "2 * (s2 + 2 * s1)\n"
   ]
  },
  {
   "cell_type": "code",
   "execution_count": 164,
   "metadata": {},
   "outputs": [
    {
     "data": {
      "text/plain": [
       "'+--+--'"
      ]
     },
     "execution_count": 164,
     "metadata": {},
     "output_type": "execute_result"
    }
   ],
   "source": [
    "(s2 + s1+s1)*2"
   ]
  },
  {
   "cell_type": "code",
   "execution_count": 165,
   "metadata": {},
   "outputs": [
    {
     "data": {
      "text/plain": [
       "'+--+--+--+--+--+--+--+--+--+--+'"
      ]
     },
     "execution_count": 165,
     "metadata": {},
     "output_type": "execute_result"
    }
   ],
   "source": [
    "#2.12 (e) '+--+--+--+--+--+--+--+--+--+--+'\n",
    "10 * (s2 + 2 * s1) + s2"
   ]
  },
  {
   "cell_type": "code",
   "execution_count": 166,
   "metadata": {},
   "outputs": [
    {
     "data": {
      "text/plain": [
       "'+-+++--+-+++--+-+++--+-+++--+-+++--'"
      ]
     },
     "execution_count": 166,
     "metadata": {},
     "output_type": "execute_result"
    }
   ],
   "source": [
    "#2.12 (f) '+-+++--+-+++--+-+++--+-+++--+-+++--'\n",
    "5 * (s2 + s1 + 3 * s2 + 2 * s1)\n"
   ]
  },
  {
   "cell_type": "markdown",
   "metadata": {},
   "source": [
    "# 2.14 Start by executing s = 'goodbye'\n",
    "Then write a Boolean expression that checks whether: \n",
    "(a) The first character of string s is 'g'\n",
    "(b) The seventh character of s is 'g'\n",
    "(c) The first two characters of s are 'g' and 'a' \n",
    "(d) The next to last character of s is 'x'\n",
    "(e) The middle character of s is 'd'\n",
    "(f) The first and last characters of string s are equal\n",
    "(g) The last four characters of string s match the string 'tion'\n",
    "Note: These seven statements should evaluate to True, False, False, False, True, False, and False, respectively."
   ]
  },
  {
   "cell_type": "code",
   "execution_count": 167,
   "metadata": {},
   "outputs": [],
   "source": [
    "s = 'goodbye'"
   ]
  },
  {
   "cell_type": "code",
   "execution_count": 168,
   "metadata": {},
   "outputs": [
    {
     "data": {
      "text/plain": [
       "True"
      ]
     },
     "execution_count": 168,
     "metadata": {},
     "output_type": "execute_result"
    }
   ],
   "source": [
    "#(a) The first character of string s is 'g'\n",
    "s[0] == 'g'"
   ]
  },
  {
   "cell_type": "code",
   "execution_count": 169,
   "metadata": {},
   "outputs": [
    {
     "data": {
      "text/plain": [
       "False"
      ]
     },
     "execution_count": 169,
     "metadata": {},
     "output_type": "execute_result"
    }
   ],
   "source": [
    "#(b) The seventh character of s is 'g'\n",
    "s[6] == 'g'"
   ]
  },
  {
   "cell_type": "code",
   "execution_count": 170,
   "metadata": {},
   "outputs": [
    {
     "data": {
      "text/plain": [
       "False"
      ]
     },
     "execution_count": 170,
     "metadata": {},
     "output_type": "execute_result"
    }
   ],
   "source": [
    "#(c) The first two characters of s are 'g' and 'a'\n",
    "s[0:2]  == ('ga')"
   ]
  },
  {
   "cell_type": "code",
   "execution_count": 171,
   "metadata": {},
   "outputs": [
    {
     "data": {
      "text/plain": [
       "False"
      ]
     },
     "execution_count": 171,
     "metadata": {},
     "output_type": "execute_result"
    }
   ],
   "source": [
    "#(d) The next to last character of s is 'x'\n",
    "s[5] == 'x'"
   ]
  },
  {
   "cell_type": "code",
   "execution_count": 172,
   "metadata": {},
   "outputs": [
    {
     "data": {
      "text/plain": [
       "True"
      ]
     },
     "execution_count": 172,
     "metadata": {},
     "output_type": "execute_result"
    }
   ],
   "source": [
    "#(e) The middle character of s is 'd'\n",
    "s[3] == 'd'"
   ]
  },
  {
   "cell_type": "code",
   "execution_count": 173,
   "metadata": {},
   "outputs": [
    {
     "data": {
      "text/plain": [
       "False"
      ]
     },
     "execution_count": 173,
     "metadata": {},
     "output_type": "execute_result"
    }
   ],
   "source": [
    "#(f) The first and last characters of string s are equal\n",
    "s[0] == s[6] "
   ]
  },
  {
   "cell_type": "code",
   "execution_count": 174,
   "metadata": {},
   "outputs": [
    {
     "data": {
      "text/plain": [
       "False"
      ]
     },
     "execution_count": 174,
     "metadata": {},
     "output_type": "execute_result"
    }
   ],
   "source": [
    "#(g) The last four characters of string s match the string 'tion'\n",
    "s[3:7] == 'tion'"
   ]
  },
  {
   "cell_type": "markdown",
   "metadata": {},
   "source": [
    "# 2.16 Write the corresponding Python assignment statements:\n",
    "(a) Assign 6 to variable a and 7 to variable b.\n",
    "(b) Assign to variable c the average of variables a and b.\n",
    "(c) Assign to variable inventory the list containing strings 'paper', 'staples', and\n",
    "'pencils'.\n",
    "(d) Assign to variables first, middle and last the strings 'John', 'Fitzgerald',\n",
    "and 'Kennedy'.\n",
    "(e) Assign to variable fullname the concatenation of string variables first, middle,\n",
    "and last. Make sure you incorporate blank spaces appropriately."
   ]
  },
  {
   "cell_type": "code",
   "execution_count": 175,
   "metadata": {},
   "outputs": [
    {
     "name": "stdout",
     "output_type": "stream",
     "text": [
      "6 7\n"
     ]
    }
   ],
   "source": [
    "#(a) Assign 6 to variable a and 7 to variable b.\n",
    "a = 6 \n",
    "b =7\n",
    "print(a,b)\n"
   ]
  },
  {
   "cell_type": "code",
   "execution_count": 176,
   "metadata": {},
   "outputs": [
    {
     "data": {
      "text/plain": [
       "6.5"
      ]
     },
     "execution_count": 176,
     "metadata": {},
     "output_type": "execute_result"
    }
   ],
   "source": [
    "#(b) Assign to variable c the average of variables a and b.\n",
    "c= (a+b)/2\n",
    "c\n"
   ]
  },
  {
   "cell_type": "code",
   "execution_count": 177,
   "metadata": {},
   "outputs": [
    {
     "data": {
      "text/plain": [
       "['paper', 'staples', 'pencils']"
      ]
     },
     "execution_count": 177,
     "metadata": {},
     "output_type": "execute_result"
    }
   ],
   "source": [
    "#(c) Assign to variable inventory the list containing strings 'paper', 'staples', and'pencils'.\n",
    "inventory = ['paper', 'staples','pencils']\n",
    "inventory"
   ]
  },
  {
   "cell_type": "code",
   "execution_count": 178,
   "metadata": {},
   "outputs": [
    {
     "name": "stdout",
     "output_type": "stream",
     "text": [
      "john\n",
      "Fitzgerald\n",
      "Kennedy\n"
     ]
    }
   ],
   "source": [
    "#(d) Assign to variables first, middle and last the \n",
    "#strings 'John', 'Fitzgerald', and 'Kennedy'.\n",
    "first ='john' \n",
    "middle = 'Fitzgerald'\n",
    "last= 'Kennedy'\n",
    "print(first)\n",
    "print(middle)\n",
    "print(last)"
   ]
  },
  {
   "cell_type": "code",
   "execution_count": 179,
   "metadata": {},
   "outputs": [
    {
     "name": "stdout",
     "output_type": "stream",
     "text": [
      "john Fitzgerald Kennedy\n"
     ]
    }
   ],
   "source": [
    "#(e) Assign to variable fullname the concatenation of string variables first, middle,\n",
    "#and last. Make sure you incorporate blank spaces appropriately.\n",
    "fullname = first +\" \"+ middle +\" \"+ last\n",
    "print(fullname)"
   ]
  },
  {
   "cell_type": "markdown",
   "metadata": {},
   "source": [
    "# 2.18 Write Python statements corresponding to the following:\n",
    "(a) Assign to variable flowers a list containing strings 'rose', 'bougainvillea',\n",
    "'yucca', 'marigold', 'daylilly', and 'lilly of the valley'.\n",
    "(b) WriteaBooleanexpressionthatevaluatestoTrueifstring'potato'isinlistflowers,\n",
    "and evaluate the expression.\n",
    "(c) Assign to list thorny the sublist consisting of the first three objects in list flowers.\n",
    "(d) Assigntolistpoisonousthesublistconsistingofjustthelastobjectoflistflowers.\n",
    "(e) Assign to list dangerous the concatenation of lists thorny and poisonous."
   ]
  },
  {
   "cell_type": "code",
   "execution_count": 180,
   "metadata": {},
   "outputs": [
    {
     "name": "stdout",
     "output_type": "stream",
     "text": [
      "['rose', 'bougainvillea', 'yucca', 'marigold', 'daylilly', 'lilly of the valley']\n"
     ]
    }
   ],
   "source": [
    "#(a) Assign to variable flowers a list containing strings 'rose', 'bougainvillea',\n",
    "# 'yucca', 'marigold', 'daylilly', and 'lilly of the valley'.\n",
    "flowers = ['rose', 'bougainvillea','yucca', 'marigold', 'daylilly', 'lilly of the valley']\n",
    "print(flowers)"
   ]
  },
  {
   "cell_type": "code",
   "execution_count": 181,
   "metadata": {},
   "outputs": [
    {
     "data": {
      "text/plain": [
       "False"
      ]
     },
     "execution_count": 181,
     "metadata": {},
     "output_type": "execute_result"
    }
   ],
   "source": [
    "#Write a Boolean expression that evaluates to True if string'potato'is in list flowers,\n",
    "#and evaluate the expression.\n",
    "'potato' in [flowers]"
   ]
  },
  {
   "cell_type": "code",
   "execution_count": 182,
   "metadata": {},
   "outputs": [
    {
     "data": {
      "text/plain": [
       "['rose', 'bougainvillea', 'yucca']"
      ]
     },
     "execution_count": 182,
     "metadata": {},
     "output_type": "execute_result"
    }
   ],
   "source": [
    "#(c) Assign to list thorny the sublist consisting of the first three objects in list flowers.\n",
    "thorny=[flowers[0],flowers[1],flowers[2]]\n",
    "thorny"
   ]
  },
  {
   "cell_type": "code",
   "execution_count": 183,
   "metadata": {},
   "outputs": [
    {
     "data": {
      "text/plain": [
       "['lilly of the valley']"
      ]
     },
     "execution_count": 183,
     "metadata": {},
     "output_type": "execute_result"
    }
   ],
   "source": [
    "#(d) Assign to list poisonous the sublist consisting of just the last object of list flowers.\n",
    "poisonous=[flowers[-1]]\n",
    "poisonous"
   ]
  },
  {
   "cell_type": "code",
   "execution_count": 184,
   "metadata": {},
   "outputs": [
    {
     "name": "stdout",
     "output_type": "stream",
     "text": [
      "['rose', 'bougainvillea', 'yucca', 'lilly of the valley']\n"
     ]
    }
   ],
   "source": [
    "#(e) Assign to list dangerous the concatenation of lists thorny and poisonous.\n",
    "dangerous=thorny+poisonous\n",
    "print(dangerous)\n"
   ]
  },
  {
   "cell_type": "markdown",
   "metadata": {},
   "source": [
    "# 2.20 \n",
    "Write an expression involving a three-letter string s that evaluates to a string whose characters are the characters of s in reverse order. If s is 'top', the expression should evaluate to 'pot'."
   ]
  },
  {
   "cell_type": "code",
   "execution_count": 185,
   "metadata": {},
   "outputs": [
    {
     "data": {
      "text/plain": [
       "'pot'"
      ]
     },
     "execution_count": 185,
     "metadata": {},
     "output_type": "execute_result"
    }
   ],
   "source": [
    "s='top'\n",
    "s[::-1]"
   ]
  },
  {
   "cell_type": "code",
   "execution_count": 186,
   "metadata": {},
   "outputs": [
    {
     "data": {
      "text/plain": [
       "'pot'"
      ]
     },
     "execution_count": 186,
     "metadata": {},
     "output_type": "execute_result"
    }
   ],
   "source": [
    "#alternative answer\n",
    "s[-1]+s[-2]+s[-3]"
   ]
  },
  {
   "cell_type": "markdown",
   "metadata": {},
   "source": [
    "# 2.22 \n",
    "The range of a list of numbers is the largest difference between any two numbers in the list. Write a Python expression that computes the range of a list of numbers lst. If the list lst is,say,[3, 7, -2, 12],the expression should evaluate to 14(the difference between 12 and −2)."
   ]
  },
  {
   "cell_type": "code",
   "execution_count": 187,
   "metadata": {},
   "outputs": [
    {
     "data": {
      "text/plain": [
       "14"
      ]
     },
     "execution_count": 187,
     "metadata": {},
     "output_type": "execute_result"
    }
   ],
   "source": [
    "lst = [3, 7, -2, 12]\n",
    "lst = max(lst)-min(lst)\n",
    "lst"
   ]
  },
  {
   "cell_type": "markdown",
   "metadata": {},
   "source": [
    "# 2.24 \n",
    "Start by assigning to variable grades a list containing an arbitrary sequence of grades (strings) 'A', 'B', 'C', 'D', and 'F'. For example:\n",
    "grades = ['B','B','F','C','B','A','A','D','C','D','A','A','B']\n",
    "Write a sequence of Python statements that ultimately produce a list count that contains the numbers of occurrences of each grade in list grades in alphabetic order. For the given example, the list count should be [4, 4, 2, 2, 1]."
   ]
  },
  {
   "cell_type": "markdown",
   "metadata": {},
   "source": [
    "# grades = ['B','B','F','C','B','A','A','D','C','D','A','A','B']\n",
    "grades.sort()\n",
    "A=grades.count('A')\n",
    "B=grades.count('B')\n",
    "C=grades.count('C')\n",
    "D=grades.count('D')\n",
    "F=grades.count('F')\n",
    "lst = [A,B,C,D,F] \n",
    "lst\n"
   ]
  },
  {
   "cell_type": "code",
   "execution_count": 188,
   "metadata": {},
   "outputs": [
    {
     "name": "stdout",
     "output_type": "stream",
     "text": [
      "[4, 4, 2, 2, 1]\n"
     ]
    }
   ],
   "source": [
    "grades = ['B','B','F','C','B','A','A','D','C','D','A','A','B'] \n",
    "A=grades.count('A')\n",
    "B=grades.count('B')\n",
    "C=grades.count('C')\n",
    "D=grades.count('D')\n",
    "F=grades.count('F')\n",
    "\n",
    "x = [A,B,C,D,F] \n",
    "print(x)"
   ]
  },
  {
   "cell_type": "code",
   "execution_count": null,
   "metadata": {},
   "outputs": [],
   "source": [
    "grades = ['B','B','F','C','B','A','A','D','C','D','A','A','B']\n",
    "count = [] #we create an empty list to store the number of times each letter appears in the list grades\n",
    "count.append(grades.count('A'))#start with inner parenthesis- use function count to count\n",
    "#how many times the letter A appears in list grades. This number gets stored at the end of the list count_1\n",
    "#using the append function\n",
    "count.append(grades.count('B'))\n",
    "count.append(grades.count('C'))\n",
    "count.append(grades.count('D'))\n",
    "count.append(grades.count('F'))\n",
    "#count function- returns the number of times the data occurs in the list- do list.count(data)\n",
    "#append function- inserts data to the END of the list- do list.append(data)\n",
    "print(count_1)"
   ]
  },
  {
   "cell_type": "markdown",
   "metadata": {},
   "source": [
    "# 2.26 \n",
    "A dartboard of radius 10 and the wall it is hanging on are represented using the two- dimensional coordinate system, with the board’s center at coordinate (0, 0). Variables x and y store the x- and y-coordinate of a dart hit. Write an expression using variables x and y that evaluates to True if the dart hits (is within) the dartboard, and evaluate the expression for these dart coordinates:\n",
    "(a) (0,0) \n",
    "(b) (10,10) \n",
    "(c) (6,−6) \n",
    "(d) (−7,8)"
   ]
  },
  {
   "cell_type": "code",
   "execution_count": 208,
   "metadata": {},
   "outputs": [
    {
     "name": "stdout",
     "output_type": "stream",
     "text": [
      "True\n"
     ]
    }
   ],
   "source": [
    "#(a) (0,0)\n",
    "x = 0\n",
    "y = 0\n",
    "print((x**2) + (y**2) <= (10**2))"
   ]
  },
  {
   "cell_type": "code",
   "execution_count": 209,
   "metadata": {},
   "outputs": [
    {
     "name": "stdout",
     "output_type": "stream",
     "text": [
      "False\n"
     ]
    }
   ],
   "source": [
    "#(b) (10,10)\n",
    "x = 10\n",
    "y = 10\n",
    "print((x**2) + (y**2) <= (10**2))"
   ]
  },
  {
   "cell_type": "code",
   "execution_count": 210,
   "metadata": {},
   "outputs": [
    {
     "name": "stdout",
     "output_type": "stream",
     "text": [
      "True\n"
     ]
    }
   ],
   "source": [
    "#(c) (6,−6)\n",
    "x = 6\n",
    "y = -6\n",
    "print((x**2) + (y**2) <= (10**2))"
   ]
  },
  {
   "cell_type": "code",
   "execution_count": 211,
   "metadata": {},
   "outputs": [
    {
     "name": "stdout",
     "output_type": "stream",
     "text": [
      "False\n"
     ]
    }
   ],
   "source": [
    "#(d) (−7,8)\n",
    "x = -7\n",
    "y = 8\n",
    "print((x**2) + (y**2) <= (10**2))"
   ]
  },
  {
   "cell_type": "markdown",
   "metadata": {},
   "source": [
    "# another way to do this question 2.26 with inbuilt math function"
   ]
  },
  {
   "cell_type": "code",
   "execution_count": 236,
   "metadata": {},
   "outputs": [],
   "source": [
    "import math\n",
    "x=0\n",
    "y=0"
   ]
  },
  {
   "cell_type": "code",
   "execution_count": 237,
   "metadata": {},
   "outputs": [
    {
     "name": "stdout",
     "output_type": "stream",
     "text": [
      "True\n"
     ]
    }
   ],
   "source": [
    "#(a) (0,0)\n",
    "a=math.sqrt((0-0)**2+(0-0)**2)\n",
    "print(a<r)"
   ]
  },
  {
   "cell_type": "code",
   "execution_count": 238,
   "metadata": {},
   "outputs": [
    {
     "name": "stdout",
     "output_type": "stream",
     "text": [
      "False\n"
     ]
    }
   ],
   "source": [
    "#(b) (10,10)\n",
    "b=math.sqrt((10-0)**2+(10-0)**2)\n",
    "print(b<r)"
   ]
  },
  {
   "cell_type": "code",
   "execution_count": 239,
   "metadata": {},
   "outputs": [
    {
     "name": "stdout",
     "output_type": "stream",
     "text": [
      "True\n"
     ]
    }
   ],
   "source": [
    "#(c) (6,−6)\n",
    "c=math.sqrt((6-0)**2+(6-0)**2)\n",
    "print(c<r)"
   ]
  },
  {
   "cell_type": "code",
   "execution_count": 240,
   "metadata": {},
   "outputs": [
    {
     "name": "stdout",
     "output_type": "stream",
     "text": [
      "False\n"
     ]
    }
   ],
   "source": [
    "#(d) (−7,8)\n",
    "\n",
    "d=math.sqrt((8-0)**2+(7-0)**2)\n",
    "print(d<r)"
   ]
  },
  {
   "cell_type": "markdown",
   "metadata": {},
   "source": [
    "# 2.28\n",
    "Write the relevant Python expression or statement, involving a list of numbers lst and using list operators and methods for these specifications:\n",
    "(a) An expression that evaluates to the index of the middle element of lst \n",
    "(b) An expression that evaluates to the middle element of lst\n",
    "(c) A statement that sorts the list lst in descending order\n",
    "(d) A statement that removes the first number of list lst and puts it at the end\n",
    "Note: If a list has even length, then the middle element is defined to be the rightmost of the two elements in the middle of the list."
   ]
  },
  {
   "cell_type": "code",
   "execution_count": 226,
   "metadata": {},
   "outputs": [
    {
     "data": {
      "text/plain": [
       "2"
      ]
     },
     "execution_count": 226,
     "metadata": {},
     "output_type": "execute_result"
    }
   ],
   "source": [
    "# (a) An expression that evaluates to the index of the middle element of lst\n",
    "lst=[1,11,15,17,10]\n",
    "len(lst)//2"
   ]
  },
  {
   "cell_type": "code",
   "execution_count": 227,
   "metadata": {},
   "outputs": [
    {
     "data": {
      "text/plain": [
       "15"
      ]
     },
     "execution_count": 227,
     "metadata": {},
     "output_type": "execute_result"
    }
   ],
   "source": [
    "#(b) An expression that evaluates to the middle element of lst\n",
    "lst[len(lst)//2]"
   ]
  },
  {
   "cell_type": "code",
   "execution_count": 223,
   "metadata": {},
   "outputs": [
    {
     "data": {
      "text/plain": [
       "[17, 15, 11, 10, 1]"
      ]
     },
     "execution_count": 223,
     "metadata": {},
     "output_type": "execute_result"
    }
   ],
   "source": [
    "#(c) A statement that sorts the list lst in descending order\n",
    "lst.sort()\n",
    "lst.reverse()\n",
    "lst"
   ]
  },
  {
   "cell_type": "code",
   "execution_count": 228,
   "metadata": {},
   "outputs": [
    {
     "data": {
      "text/plain": [
       "[17, 15, 11, 10, 1]"
      ]
     },
     "execution_count": 228,
     "metadata": {},
     "output_type": "execute_result"
    }
   ],
   "source": [
    "# alternative answer\n",
    "lst.sort(reverse=True) \n",
    "lst"
   ]
  },
  {
   "cell_type": "code",
   "execution_count": 229,
   "metadata": {},
   "outputs": [
    {
     "data": {
      "text/plain": [
       "[15, 11, 10, 1, 17]"
      ]
     },
     "execution_count": 229,
     "metadata": {},
     "output_type": "execute_result"
    }
   ],
   "source": [
    "# (d) A statement that removes the first number of list lst and puts it at the end\n",
    "x=lst.pop(0)\n",
    "lst.append(x)\n",
    "lst"
   ]
  },
  {
   "cell_type": "markdown",
   "metadata": {},
   "source": [
    "# 2.30 \n",
    "Using an example of your own, explicitly convert some string to a list. Describe, in your own words, the behavior of the list constructor on a string input."
   ]
  },
  {
   "cell_type": "code",
   "execution_count": 2,
   "metadata": {},
   "outputs": [
    {
     "data": {
      "text/plain": [
       "['Hi', 'this', 'is', 'cus620', 'class']"
      ]
     },
     "execution_count": 2,
     "metadata": {},
     "output_type": "execute_result"
    }
   ],
   "source": [
    "#example 1 \n",
    "\n",
    "s = \"Hi this is cus620 class\"\n",
    "s.split(\" \")"
   ]
  },
  {
   "cell_type": "markdown",
   "metadata": {},
   "source": [
    "I think .split() is a separator which works as a delimiter. The string splits at this specified separator. If is not provided then any white space is a separator."
   ]
  },
  {
   "cell_type": "code",
   "execution_count": 244,
   "metadata": {},
   "outputs": [
    {
     "data": {
      "text/plain": [
       "['s', 't', ' ', 'j', 'o', 'h', 'n', 's', ' ', 'C', 'U', 'S', '6', '2', '0']"
      ]
     },
     "execution_count": 244,
     "metadata": {},
     "output_type": "execute_result"
    }
   ],
   "source": [
    "#example 2 \n",
    "\n",
    "s = \"st johns CUS620\"\n",
    "list(s)"
   ]
  },
  {
   "cell_type": "code",
   "execution_count": null,
   "metadata": {},
   "outputs": [],
   "source": []
  },
  {
   "cell_type": "code",
   "execution_count": null,
   "metadata": {},
   "outputs": [],
   "source": []
  },
  {
   "cell_type": "markdown",
   "metadata": {},
   "source": [
    "# Exercise 1.1: The interpreter\n",
    "Open the Python interpeter. What happens when you input the following statements: (a) 3 + 1\n",
    "(b) 3 * 3\n",
    "(c) 2 ** 3\n",
    "(d) \"Hello, world!\""
   ]
  },
  {
   "cell_type": "code",
   "execution_count": null,
   "metadata": {},
   "outputs": [],
   "source": [
    "3+1 #we just add numbers"
   ]
  },
  {
   "cell_type": "code",
   "execution_count": null,
   "metadata": {},
   "outputs": [],
   "source": [
    "3*3 #multiply the numbers"
   ]
  },
  {
   "cell_type": "code",
   "execution_count": null,
   "metadata": {},
   "outputs": [],
   "source": [
    "2**3 #python way to to 2^3"
   ]
  },
  {
   "cell_type": "code",
   "execution_count": null,
   "metadata": {},
   "outputs": [],
   "source": [
    "\"Hello, world!\" # we printing string we can use ''single quote or \"\"double quote too"
   ]
  },
  {
   "cell_type": "markdown",
   "metadata": {},
   "source": [
    "# Exercise 1.2:\n",
    "Scripts\n",
    "\n",
    "Now copy the above to a script, and save it as script1.py. What happens if you run the script? (try: python script1.py). Can you fix this (hint: use the print function)\n"
   ]
  },
  {
   "cell_type": "markdown",
   "metadata": {},
   "source": [
    "no need to answer because we using jupyter"
   ]
  },
  {
   "cell_type": "markdown",
   "metadata": {},
   "source": [
    "# Exercise 1.3: More interpreter\n",
    "Explain the output of the following statements if executed subsequently: \n",
    "(a) ‘py’ + ‘thon’\n",
    "(b) ‘py’ * 3 + ‘thon’\n",
    "(c) ‘py’ - ‘py’\n",
    "(d) ‘3’ + 3 \n",
    "(e)3 *‘3’ \n",
    "(f) a\n",
    "(g) a = 3\n",
    "(h) a"
   ]
  },
  {
   "cell_type": "code",
   "execution_count": null,
   "metadata": {},
   "outputs": [],
   "source": [
    "# (a) ‘py’ + ‘thon’\n",
    "'py'+'thon' # this take the string 'py' and add to 'thon' so, the output is 'python' so basically we adding 2 strings"
   ]
  },
  {
   "cell_type": "code",
   "execution_count": null,
   "metadata": {},
   "outputs": [],
   "source": [
    "#(b) ‘py’ * 3 + ‘thon’\n",
    "'py'* 3 +'thon' #it multiplies py 3 time and then add thon in the end "
   ]
  },
  {
   "cell_type": "code",
   "execution_count": null,
   "metadata": {},
   "outputs": [],
   "source": [
    "#(c) ‘py’ - ‘py’\n",
    "'py'-'py' #we cannot perform mathematical operations on strings like - operator but + operator works \n",
    "            #because it performs concatenation,which means joining the strings by linking them end-to-end"
   ]
  },
  {
   "cell_type": "code",
   "execution_count": null,
   "metadata": {},
   "outputs": [],
   "source": [
    "#(d) ‘3’ + 3 \n",
    "'3'+3   #we cannot perform mathematical operations on strings like - operator. it cannot concatenate int to str\n",
    "        #we cannot add a string to an integer. "
   ]
  },
  {
   "cell_type": "code",
   "execution_count": null,
   "metadata": {},
   "outputs": [],
   "source": [
    "#(e)3 *‘3’\n",
    "3 *'3' #it takes 3 and multliplies with string '3' which makes '333'"
   ]
  },
  {
   "cell_type": "code",
   "execution_count": null,
   "metadata": {
    "scrolled": false
   },
   "outputs": [],
   "source": [
    "#(f) a\n",
    "a #this will not give any output because we did not assign anything to a \n",
    "    #but since i used other homework question in this notebook it's taking 6 from my previous questions "
   ]
  },
  {
   "cell_type": "code",
   "execution_count": null,
   "metadata": {},
   "outputs": [],
   "source": [
    "#(g) a = 3\n",
    "a = 3 # we assigning 3 to variable a here \n",
    "a"
   ]
  },
  {
   "cell_type": "code",
   "execution_count": null,
   "metadata": {},
   "outputs": [],
   "source": [
    "#(h) a \n",
    "a # this is calling a which is assigned 3 in (g) question a=3\n"
   ]
  },
  {
   "cell_type": "markdown",
   "metadata": {},
   "source": [
    "# Exercise 1.4: \n",
    "Booleans\n",
    "Explain the output of the following statements:\n",
    "(a) 1 == 1\n",
    "(b) 1 == True\n",
    "(c) 0 == True \n",
    "(d) 0 == False \n",
    "(e) 3 == 1 * 3\n",
    "(f) (3 == 1) * 3\n",
    "(g) (3 == 3) * 4 + 3 == 1 \n",
    "(h) 3**5 >= 4**4"
   ]
  },
  {
   "cell_type": "code",
   "execution_count": null,
   "metadata": {},
   "outputs": [],
   "source": [
    "#(a) 1 == 1 \n",
    "1 == 1 #it checks is 1 equals to 1?  which is equal so, TRUE\n"
   ]
  },
  {
   "cell_type": "code",
   "execution_count": null,
   "metadata": {},
   "outputs": [],
   "source": [
    "#(b) 1 == True \n",
    "1 == True #because 1 is TRUE in binary and in python it also works same 1=true, 0=false. therefore true is true so, True"
   ]
  },
  {
   "cell_type": "code",
   "execution_count": null,
   "metadata": {},
   "outputs": [],
   "source": [
    "#(c) 0 == True \n",
    "0 == True #because 0 is False and true is true so, False (because False == True is False)"
   ]
  },
  {
   "cell_type": "code",
   "execution_count": null,
   "metadata": {},
   "outputs": [],
   "source": [
    "#(d) 0 == False \n",
    "0 == False  #because 0 is False and False is False so, True (because False == False is True)"
   ]
  },
  {
   "cell_type": "code",
   "execution_count": null,
   "metadata": {},
   "outputs": [],
   "source": [
    "#(e) 3 == 1 * 3 \n",
    "3 == 1 * 3 #because 3*1 is 3 so, 3==3 True"
   ]
  },
  {
   "cell_type": "code",
   "execution_count": null,
   "metadata": {},
   "outputs": [],
   "source": [
    "#(f) (3 == 1) * 3 \n",
    "(3 == 1) * 3 #because (3 == 1) becomes 0 (false) and then 0 * 3 is 0 "
   ]
  },
  {
   "cell_type": "code",
   "execution_count": null,
   "metadata": {},
   "outputs": [],
   "source": [
    "#(g) (3 == 3) * 4 + 3 == 1 \n",
    "(3 == 3) * 4 + 3 == 1 #because (3 == 3) is true which means 1 so, 1* 4 is 4 then 4+3 is 7 therefore 7==1 which is False "
   ]
  },
  {
   "cell_type": "code",
   "execution_count": null,
   "metadata": {},
   "outputs": [],
   "source": [
    "#(h) 3**5 >= 4**4\n",
    "3**5 >= 4**4 #it is false because 3**5 is 243 and 4**4 is 256 so, question says 243 is bigger and equal to 256 which is false "
   ]
  },
  {
   "cell_type": "markdown",
   "metadata": {},
   "source": [
    "# Exercise 1.5:\n",
    "Integers\n",
    "\n",
    "Explain the output of the following statements: \n",
    "(a) 5 / 3\n",
    "(b) 5 % 3\n",
    "(c) 5.0 / 3\n",
    "(d) 5 / 3.0 \n",
    "(e) 5.2 3\n",
    "(f) 2001 ** 200"
   ]
  },
  {
   "cell_type": "code",
   "execution_count": 190,
   "metadata": {},
   "outputs": [
    {
     "data": {
      "text/plain": [
       "1.6666666666666667"
      ]
     },
     "execution_count": 190,
     "metadata": {},
     "output_type": "execute_result"
    }
   ],
   "source": [
    "#(a) 5 / 3 \n",
    "5 / 3 # it is 1.6666666666666667 it divided 5 by 3 "
   ]
  },
  {
   "cell_type": "code",
   "execution_count": 191,
   "metadata": {},
   "outputs": [
    {
     "data": {
      "text/plain": [
       "2"
      ]
     },
     "execution_count": 191,
     "metadata": {},
     "output_type": "execute_result"
    }
   ],
   "source": [
    "#(b) 5 %3 \n",
    "5 %3 #it checks what is the 5 modulo 3  which is 2"
   ]
  },
  {
   "cell_type": "code",
   "execution_count": 192,
   "metadata": {},
   "outputs": [
    {
     "data": {
      "text/plain": [
       "1.6666666666666667"
      ]
     },
     "execution_count": 192,
     "metadata": {},
     "output_type": "execute_result"
    }
   ],
   "source": [
    "#(c) 5.0 / 3\n",
    "5.0 / 3 # is 1.6666666666666667 it divided 5.0 by 3  so, we can float number by int in python"
   ]
  },
  {
   "cell_type": "code",
   "execution_count": 193,
   "metadata": {},
   "outputs": [
    {
     "data": {
      "text/plain": [
       "1.6666666666666667"
      ]
     },
     "execution_count": 193,
     "metadata": {},
     "output_type": "execute_result"
    }
   ],
   "source": [
    "#(d) 5 / 3.0 \n",
    "5 / 3.0 # is 1.6666666666666667 it divided 5 by 3.0 we can also divide int by float"
   ]
  },
  {
   "cell_type": "code",
   "execution_count": 194,
   "metadata": {},
   "outputs": [
    {
     "data": {
      "text/plain": [
       "2.2"
      ]
     },
     "execution_count": 194,
     "metadata": {},
     "output_type": "execute_result"
    }
   ],
   "source": [
    "#(e) 5.2% 3 is 2.2\n",
    "5.2% 3 #is 2.2 it check and generate what is the 5.2 modulo 3?  which is 2.2"
   ]
  },
  {
   "cell_type": "code",
   "execution_count": 195,
   "metadata": {},
   "outputs": [
    {
     "data": {
      "text/plain": [
       "1775896810483121914350934797871501063452843428843794422323202530887281536545210629921129898113201749875234297340507804201761453596034016264189501186924066128377025843892373608427790859511135990682732202975330824797118808624727351608183194154557208730494440110429635650057431833674286462463508755276302896154336475782768613964332764108132533925570342220340698973761380541294970139762186212823359128790706292900765512137078550033912252338262922477518858757114840012576514724742388124595061301502222934806074032688691170880996881967426442947828261057852871032366879179996122216385870273020506079240103910728766397733398071775041745854959302025036249707279600400001"
      ]
     },
     "execution_count": 195,
     "metadata": {},
     "output_type": "execute_result"
    }
   ],
   "source": [
    "#(f) 2001 ** 200 \n",
    "2001 ** 200 # it takes 2001 to the power 200 which gives very large number "
   ]
  },
  {
   "cell_type": "markdown",
   "metadata": {},
   "source": [
    "# Exercise 1.6: \n",
    "Floats\n",
    "Explain the output of the following statements: \n",
    "(a) 2000.3 ** 200 (compare with above)\n",
    "(b) 1.0 + 1.0 - 1.0\n",
    "(c) 1.0 + 1.0e20 - 1.0e20"
   ]
  },
  {
   "cell_type": "code",
   "execution_count": 196,
   "metadata": {},
   "outputs": [
    {
     "ename": "OverflowError",
     "evalue": "(34, 'Result too large')",
     "output_type": "error",
     "traceback": [
      "\u001b[0;31m---------------------------------------------------------------------------\u001b[0m",
      "\u001b[0;31mOverflowError\u001b[0m                             Traceback (most recent call last)",
      "\u001b[0;32m<ipython-input-196-0f6472f2e382>\u001b[0m in \u001b[0;36m<module>\u001b[0;34m\u001b[0m\n\u001b[1;32m      1\u001b[0m \u001b[0;31m#(a) 2000.3 ** 200 (compare with above)\u001b[0m\u001b[0;34m\u001b[0m\u001b[0;34m\u001b[0m\u001b[0;34m\u001b[0m\u001b[0m\n\u001b[0;32m----> 2\u001b[0;31m \u001b[0;36m2000.3\u001b[0m \u001b[0;34m**\u001b[0m \u001b[0;36m200\u001b[0m\u001b[0;34m\u001b[0m\u001b[0;34m\u001b[0m\u001b[0m\n\u001b[0m\u001b[1;32m      3\u001b[0m \u001b[0;34m\u001b[0m\u001b[0m\n\u001b[1;32m      4\u001b[0m \u001b[0;31m#above 2001 ** 200 produced large number but with 2000.3 ** 200 it gives error because python use different operation while dealing with int and float.\u001b[0m\u001b[0;34m\u001b[0m\u001b[0;34m\u001b[0m\u001b[0;34m\u001b[0m\u001b[0m\n",
      "\u001b[0;31mOverflowError\u001b[0m: (34, 'Result too large')"
     ]
    }
   ],
   "source": [
    "#(a) 2000.3 ** 200 (compare with above)\n",
    "2000.3 ** 200 \n",
    "\n",
    "#above 2001 ** 200 produced large number but with 2000.3 ** 200 it gives error because python use different operation while dealing with int and float.\n"
   ]
  },
  {
   "cell_type": "code",
   "execution_count": null,
   "metadata": {},
   "outputs": [],
   "source": [
    "#(b) 1.0 + 1.0 - 1.0 is 1.0 \n",
    "1.0 + 1.0 - 1.0 #is 1.0  because 1.0+ 1.0 is 2.0 so, 2.0 -1.0 is 1.0\n",
    "#general way to add. and sub."
   ]
  },
  {
   "cell_type": "code",
   "execution_count": null,
   "metadata": {},
   "outputs": [],
   "source": [
    "#(c) 1.0 + 1.0e20 - 1.0e20 \n",
    "1.0 + 1.0e20 - 1.0e20  #is 0.0 because it add first 1.0 + 1.0e20 is 1.0e20 so, 1.0e20 - 1.0e20 is 0.0"
   ]
  },
  {
   "cell_type": "markdown",
   "metadata": {},
   "source": [
    "# Exercise 1.7: \n",
    "Variables\n",
    "\n",
    " Write a script where the variable name holds a string with your name. Then, assuming for now your name is John Doe, have the script output: Hello, John Doe! (and obviously, do not use print \"Hello, John Doe!\"."
   ]
  },
  {
   "cell_type": "code",
   "execution_count": null,
   "metadata": {},
   "outputs": [],
   "source": [
    "x = 'Hello'\n",
    "y = ','\n",
    "z = 'John Doe!'\n",
    "x +y +z"
   ]
  },
  {
   "cell_type": "markdown",
   "metadata": {},
   "source": [
    "# Exercise 1.8: \n",
    "Type casting\n",
    "\n",
    "Very often, one wants to “cast” variables of a certain type into another type. Suppose we have variable x = ‘123’, but really we would like x to be an integer.\n",
    "This is easy to do in Python, just use desiredtype(x), e.g. int(x) to obtain an integer. Try the following and explain the output\n",
    "(a) float(123) \n",
    "(b) float(‘123’)\n",
    "(c) float(‘123.23’) \n",
    "(d) int(123.23)\n",
    "(e) int(‘123.23’)\n",
    "(f) int(float(‘123.23’))\n",
    "(g) str(12) \n",
    "(h) str(12.2)\n",
    "(i) bool(‘a’)\n",
    "(j) bool(0) \n",
    "(k) bool(0.1)"
   ]
  },
  {
   "cell_type": "code",
   "execution_count": null,
   "metadata": {},
   "outputs": [],
   "source": [
    "x= '123'"
   ]
  },
  {
   "cell_type": "code",
   "execution_count": null,
   "metadata": {},
   "outputs": [],
   "source": [
    "#(a) float(123)\n",
    "float(123)  #using float func. to get decimal value from the interger"
   ]
  },
  {
   "cell_type": "code",
   "execution_count": null,
   "metadata": {},
   "outputs": [],
   "source": [
    "#(b) float(‘123’)\n",
    "float('123') #using float func. to get value as float from string"
   ]
  },
  {
   "cell_type": "code",
   "execution_count": null,
   "metadata": {
    "scrolled": true
   },
   "outputs": [],
   "source": [
    "#(c) float('123.23')\n",
    "float('123.23') #using float func. to get value as float number from the string decimal "
   ]
  },
  {
   "cell_type": "code",
   "execution_count": null,
   "metadata": {},
   "outputs": [],
   "source": [
    "#(d) int(123.23)\n",
    "int(123.23) # #using int func. to turn the float or decimal into int"
   ]
  },
  {
   "cell_type": "code",
   "execution_count": null,
   "metadata": {},
   "outputs": [],
   "source": [
    "#(e) int('123.23')\n",
    "int('123.23') # int never takes float number in '' single quote"
   ]
  },
  {
   "cell_type": "code",
   "execution_count": null,
   "metadata": {},
   "outputs": [],
   "source": [
    "#(f) intfloat('123.23')\n",
    "int(float('123.23')) # first always inner parenthesis works to change string into normal decimal \n",
    "                    #which is 123.23 then 123.23 into int which is 123"
   ]
  },
  {
   "cell_type": "code",
   "execution_count": null,
   "metadata": {},
   "outputs": [],
   "source": [
    "#(g) str(12)\n",
    "str(12) ##using string func. to get value as string from the interger"
   ]
  },
  {
   "cell_type": "markdown",
   "metadata": {},
   "source": [
    "#(h) str(12.2)"
   ]
  },
  {
   "cell_type": "code",
   "execution_count": null,
   "metadata": {},
   "outputs": [],
   "source": [
    " str(12.2) #using string func. to get value as string from the decimal"
   ]
  },
  {
   "cell_type": "markdown",
   "metadata": {},
   "source": [
    "#(i) bool(‘a’)"
   ]
  },
  {
   "cell_type": "code",
   "execution_count": null,
   "metadata": {},
   "outputs": [],
   "source": [
    "\n",
    " bool('a') #using boolean func. to check the value inside the () if it's empty or 0 then False other wise True"
   ]
  },
  {
   "cell_type": "code",
   "execution_count": null,
   "metadata": {},
   "outputs": [],
   "source": [
    "#(j) bool(0)"
   ]
  },
  {
   "cell_type": "code",
   "execution_count": null,
   "metadata": {},
   "outputs": [],
   "source": [
    "\n",
    "bool(0) #using boolean func. to check the value inside the () it's 0 so, False if we change 0 to 1 then True"
   ]
  },
  {
   "cell_type": "code",
   "execution_count": null,
   "metadata": {},
   "outputs": [],
   "source": [
    "#(k) bool(0.1)"
   ]
  },
  {
   "cell_type": "code",
   "execution_count": null,
   "metadata": {},
   "outputs": [],
   "source": [
    "\n",
    " bool(0.1) ##using boolean func. to check the value inside the () is not empty nor 0 so, true"
   ]
  }
 ],
 "metadata": {
  "celltoolbar": "Edit Metadata",
  "kernelspec": {
   "display_name": "Python 3",
   "language": "python",
   "name": "python3"
  },
  "language_info": {
   "codemirror_mode": {
    "name": "ipython",
    "version": 3
   },
   "file_extension": ".py",
   "mimetype": "text/x-python",
   "name": "python",
   "nbconvert_exporter": "python",
   "pygments_lexer": "ipython3",
   "version": "3.8.3"
  }
 },
 "nbformat": 4,
 "nbformat_minor": 2
}
