{
 "cells": [
  {
   "cell_type": "markdown",
   "metadata": {},
   "source": [
    "# # CUS620, Class Exercise 5\n",
    "## Your full name: Bhavesh Ahluwalia\n",
    "--------------\n",
    "- ### Note1: you can use this temaplet to answer questions such as class Exercise and HWs\n",
    "- ### Note2: chnage the file name respect to type of assignment, for example: CUS620_Class_Ex1_LastName or CUS620_HW1_LastName\n",
    "---------\n",
    "### if you need help on how to write in Jupyter see here: \n",
    "- Jupyter notebook tutorial: [link](https://nbviewer.jupyter.org/github/ipython/ipython/blob/3.x/examples/Notebook/Index.ipynb)\n",
    "- basic: [link](https://docs.github.com/en/github/writing-on-github/basic-writing-and-formatting-syntax)\n",
    "- advance: [link](https://docs.github.com/en/github/writing-on-github/working-with-advanced-formatting)"
   ]
  },
  {
   "cell_type": "markdown",
   "metadata": {},
   "source": [
    "# 6.13\n",
    "Define a dictionary called agencies that stores a mapping of acronyms CCC, FCC, FDIC, SSB, WPA (the keys) to the federal government agencies ‘Civilian Conservation Corps’, ‘Federal Communications Commission’, ‘Federal Deposit Insurance Corporation’, ‘Social Security Board’, and ‘Works Progress Administration’ (the values) created by Pres- ident Roosevelt during the New Deal. Then:\n",
    "(a) Add the map of acronym SEC to ‘Securities and Exchange Commission’. \n",
    "(b) Change the value of key SSB to ‘Social Security Administration’.\n",
    "(c) Remove the (key, value) pairs with keys CCC and WPA."
   ]
  },
  {
   "cell_type": "code",
   "execution_count": 64,
   "metadata": {},
   "outputs": [],
   "source": [
    "all_acronym_full_name= {'CCC':'Civilian Conservation Corps' , 'FCC':'Federal Communications Commission' , 'FDIC':'Federal Deposit Insurance Corporation' , 'SSB':'Social Security Board' , 'WPA':'Works Progress Administration' }"
   ]
  },
  {
   "cell_type": "code",
   "execution_count": 65,
   "metadata": {},
   "outputs": [
    {
     "data": {
      "text/plain": [
       "{'CCC': 'Civilian Conservation Corps',\n",
       " 'FCC': 'Federal Communications Commission',\n",
       " 'FDIC': 'Federal Deposit Insurance Corporation',\n",
       " 'SSB': 'Social Security Board',\n",
       " 'WPA': 'Works Progress Administration',\n",
       " 'SEC': 'Securities and Exchange Commission'}"
      ]
     },
     "execution_count": 65,
     "metadata": {},
     "output_type": "execute_result"
    }
   ],
   "source": [
    "#(a) Add the map of acronym SEC to ‘Securities and Exchange Commission’.\n",
    "all_acronym_full_name['SEC']= 'Securities and Exchange Commission' #add sec into the dictionary \n",
    "all_acronym_full_name"
   ]
  },
  {
   "cell_type": "code",
   "execution_count": 67,
   "metadata": {},
   "outputs": [
    {
     "data": {
      "text/plain": [
       "{'CCC': 'Civilian Conservation Corps',\n",
       " 'FCC': 'Federal Communications Commission',\n",
       " 'FDIC': 'Federal Deposit Insurance Corporation',\n",
       " 'SSB': 'Social Security Administration',\n",
       " 'WPA': 'Works Progress Administration',\n",
       " 'SEC': 'Securities and Exchange Commission'}"
      ]
     },
     "execution_count": 67,
     "metadata": {},
     "output_type": "execute_result"
    }
   ],
   "source": [
    "# (b) Change the value of key SSB to ‘Social Security Administration’.\n",
    "all_acronym_full_name['SSB']='Social Security Administration' # change to the new value because dictionary are mutable\n",
    "all_acronym_full_name"
   ]
  },
  {
   "cell_type": "code",
   "execution_count": 68,
   "metadata": {},
   "outputs": [
    {
     "data": {
      "text/plain": [
       "{'FCC': 'Federal Communications Commission',\n",
       " 'FDIC': 'Federal Deposit Insurance Corporation',\n",
       " 'SSB': 'Social Security Administration',\n",
       " 'SEC': 'Securities and Exchange Commission'}"
      ]
     },
     "execution_count": 68,
     "metadata": {},
     "output_type": "execute_result"
    }
   ],
   "source": [
    "# (c) Remove the (key, value) pairs with keys CCC and WPA.\n",
    "del(all_acronym_full_name['CCC']) #DEL() FUNCTION TO DELETE THE DICTIONARY\n",
    "del(all_acronym_full_name['WPA']) \n",
    "all_acronym_full_name"
   ]
  },
  {
   "cell_type": "markdown",
   "metadata": {},
   "source": [
    "# 6.16 \n",
    "Using a counter loop pattern, construct sets mult3, mult5, and mult7 of nonnegative multiples of 3, 5, and 7, respectively, less than 100. Then, using these three sets, write set expressions that return\n",
    "(a) Multiples of 35 \n",
    "(b) Multiples of 105 \n",
    "(c) Multiples of 3 or 7\n",
    "(d) Multiples of 3 or 7, but not both\n",
    "(e) Multiples of 7 that are not multiples of 3"
   ]
  },
  {
   "cell_type": "code",
   "execution_count": 7,
   "metadata": {},
   "outputs": [
    {
     "data": {
      "text/plain": [
       "{0, 35, 70}"
      ]
     },
     "execution_count": 7,
     "metadata": {},
     "output_type": "execute_result"
    }
   ],
   "source": [
    "mult3=set(range(0,100,3))#using a set funtion with range in it so it will start from 0 to 100 and it will increment for each set \n",
    "mult5=set(range(0,100,5))\n",
    "mult7=set(range(0,100,7))\n",
    "\n",
    "#(a) Multiples of 35\n",
    "mult5 & mult7 #& operator means everything must be in both mult5 & mult7"
   ]
  },
  {
   "cell_type": "code",
   "execution_count": 2,
   "metadata": {},
   "outputs": [
    {
     "data": {
      "text/plain": [
       "{0}"
      ]
     },
     "execution_count": 2,
     "metadata": {},
     "output_type": "execute_result"
    }
   ],
   "source": [
    "# b) Multiples of 105 \n",
    "mult3 & mult5 & mult7"
   ]
  },
  {
   "cell_type": "code",
   "execution_count": 3,
   "metadata": {},
   "outputs": [
    {
     "data": {
      "text/plain": [
       "{0,\n",
       " 3,\n",
       " 6,\n",
       " 7,\n",
       " 9,\n",
       " 12,\n",
       " 14,\n",
       " 15,\n",
       " 18,\n",
       " 21,\n",
       " 24,\n",
       " 27,\n",
       " 28,\n",
       " 30,\n",
       " 33,\n",
       " 35,\n",
       " 36,\n",
       " 39,\n",
       " 42,\n",
       " 45,\n",
       " 48,\n",
       " 49,\n",
       " 51,\n",
       " 54,\n",
       " 56,\n",
       " 57,\n",
       " 60,\n",
       " 63,\n",
       " 66,\n",
       " 69,\n",
       " 70,\n",
       " 72,\n",
       " 75,\n",
       " 77,\n",
       " 78,\n",
       " 81,\n",
       " 84,\n",
       " 87,\n",
       " 90,\n",
       " 91,\n",
       " 93,\n",
       " 96,\n",
       " 98,\n",
       " 99}"
      ]
     },
     "execution_count": 3,
     "metadata": {},
     "output_type": "execute_result"
    }
   ],
   "source": [
    "# (c) Multiples of 3 or 7\n",
    "mult3 | mult7 #| or sign  which means in either one "
   ]
  },
  {
   "cell_type": "code",
   "execution_count": 4,
   "metadata": {},
   "outputs": [
    {
     "data": {
      "text/plain": [
       "{3,\n",
       " 6,\n",
       " 7,\n",
       " 9,\n",
       " 12,\n",
       " 14,\n",
       " 15,\n",
       " 18,\n",
       " 24,\n",
       " 27,\n",
       " 28,\n",
       " 30,\n",
       " 33,\n",
       " 35,\n",
       " 36,\n",
       " 39,\n",
       " 45,\n",
       " 48,\n",
       " 49,\n",
       " 51,\n",
       " 54,\n",
       " 56,\n",
       " 57,\n",
       " 60,\n",
       " 66,\n",
       " 69,\n",
       " 70,\n",
       " 72,\n",
       " 75,\n",
       " 77,\n",
       " 78,\n",
       " 81,\n",
       " 87,\n",
       " 90,\n",
       " 91,\n",
       " 93,\n",
       " 96,\n",
       " 98,\n",
       " 99}"
      ]
     },
     "execution_count": 4,
     "metadata": {},
     "output_type": "execute_result"
    }
   ],
   "source": [
    "# (d) Multiples of 3 or 7, but not both\n",
    "(mult3 | mult7) - (mult3 & mult7)"
   ]
  },
  {
   "cell_type": "code",
   "execution_count": 5,
   "metadata": {},
   "outputs": [
    {
     "data": {
      "text/plain": [
       "{7, 14, 28, 35, 49, 56, 70, 77, 91, 98}"
      ]
     },
     "execution_count": 5,
     "metadata": {},
     "output_type": "execute_result"
    }
   ],
   "source": [
    "# (e) Multiples of 7 that are not multiples of 3\n",
    "mult7 - mult3"
   ]
  },
  {
   "cell_type": "markdown",
   "metadata": {},
   "source": [
    "# 6.18 \n",
    "Implement function coin() that returns 'Heads' or 'Tails' with equal probability.\n",
    ">>> coin()\n",
    "'Heads'\n",
    ">>> coin()\n",
    "'Heads'\n",
    ">>> coin()\n",
    "'Tails'"
   ]
  },
  {
   "cell_type": "code",
   "execution_count": 20,
   "metadata": {},
   "outputs": [
    {
     "data": {
      "text/plain": [
       "'tails'"
      ]
     },
     "execution_count": 20,
     "metadata": {},
     "output_type": "execute_result"
    }
   ],
   "source": [
    "import random # using random library\n",
    "\n",
    "def coin():\n",
    "    checkcoin=random.uniform(-1,1)\n",
    "    if checkcoin>0: # this will check the coinn chance if it is bigger than 0 the head\n",
    "        return \"head\"\n",
    "    else:           # otherwise it will return tail here\n",
    "        return \"tails\"\n",
    "coin()"
   ]
  },
  {
   "cell_type": "code",
   "execution_count": 21,
   "metadata": {},
   "outputs": [
    {
     "data": {
      "text/plain": [
       "'tails'"
      ]
     },
     "execution_count": 21,
     "metadata": {},
     "output_type": "execute_result"
    }
   ],
   "source": [
    "coin()"
   ]
  },
  {
   "cell_type": "code",
   "execution_count": 22,
   "metadata": {},
   "outputs": [
    {
     "data": {
      "text/plain": [
       "'head'"
      ]
     },
     "execution_count": 22,
     "metadata": {},
     "output_type": "execute_result"
    }
   ],
   "source": [
    "coin()"
   ]
  },
  {
   "cell_type": "markdown",
   "metadata": {},
   "source": [
    "# 6.20 \n",
    "Write function reverse() that takes as input a phone book, that is, a dictionary map- ping names (the keys) to phone numbers (the values). The function should return another dictionary representing the reverse phone book mapping phone numbers (the keys) to the names (the values).\n",
    ">>> phonebook = {'Smith, Jane':'123-45-67',\n",
    "'Doe, John':'987-65-43','Baker,David':'567-89-01'}\n",
    ">>> reverse(phonebook)\n",
    "{'123-45-67': 'Smith, Jane', '567-89-01': 'Baker,David', '987-65-43': 'Doe, John'}"
   ]
  },
  {
   "cell_type": "code",
   "execution_count": 43,
   "metadata": {},
   "outputs": [],
   "source": [
    "phonebook = {'Smith, Jane':'123-45-67','Doe, John':'987-65-43','Baker,David':'567-89-01'}"
   ]
  },
  {
   "cell_type": "code",
   "execution_count": 44,
   "metadata": {},
   "outputs": [
    {
     "data": {
      "text/plain": [
       "{'123-45-67': 'Smith, Jane',\n",
       " '987-65-43': 'Doe, John',\n",
       " '567-89-01': 'Baker,David'}"
      ]
     },
     "execution_count": 44,
     "metadata": {},
     "output_type": "execute_result"
    }
   ],
   "source": [
    "def reverse(phone):\n",
    "    phonebookcheck={} #dictionary start \n",
    "    for i in phone: #check each name of the phonebook with for loop \n",
    "        phonebookcheck[phone[i]]=i #check if than same as the dictionary then retun it \n",
    "    return phonebookcheck\n",
    "\n",
    "reverse(phonebook)"
   ]
  },
  {
   "cell_type": "code",
   "execution_count": null,
   "metadata": {},
   "outputs": [],
   "source": []
  },
  {
   "cell_type": "markdown",
   "metadata": {},
   "source": [
    "# 6.25 \n",
    "Write function different() that takes a two-dimensional table as input and returns the number of distinct entries in the table.\n",
    ">>> t = [[1,0,1],[0,1,0]]\n",
    ">>> different(t)\n",
    "2\n",
    ">>> t = [[32,12,52,63],[32,64,67,52],[64,64,17,34],[34,17,76,98]] >>> different(t)\n",
    "10"
   ]
  },
  {
   "cell_type": "code",
   "execution_count": 45,
   "metadata": {},
   "outputs": [],
   "source": [
    "def different(table):\n",
    "    change=set() # set function \n",
    "    for r in table: # check each row of the table with for loop \n",
    "        change=change|set(r)\n",
    "    return len(change) # return the len of difference "
   ]
  },
  {
   "cell_type": "code",
   "execution_count": 46,
   "metadata": {},
   "outputs": [],
   "source": [
    "t = [[1,0,1],[0,1,0]]"
   ]
  },
  {
   "cell_type": "code",
   "execution_count": 47,
   "metadata": {},
   "outputs": [
    {
     "data": {
      "text/plain": [
       "2"
      ]
     },
     "execution_count": 47,
     "metadata": {},
     "output_type": "execute_result"
    }
   ],
   "source": [
    "different(t)"
   ]
  },
  {
   "cell_type": "code",
   "execution_count": 48,
   "metadata": {},
   "outputs": [],
   "source": [
    "t = [[32,12,52,63],[32,64,67,52],[64,64,17,34],[34,17,76,98]]"
   ]
  },
  {
   "cell_type": "code",
   "execution_count": 49,
   "metadata": {},
   "outputs": [
    {
     "data": {
      "text/plain": [
       "10"
      ]
     },
     "execution_count": 49,
     "metadata": {},
     "output_type": "execute_result"
    }
   ],
   "source": [
    "different(t)"
   ]
  },
  {
   "cell_type": "code",
   "execution_count": null,
   "metadata": {},
   "outputs": [],
   "source": []
  }
 ],
 "metadata": {
  "kernelspec": {
   "display_name": "Python 3",
   "language": "python",
   "name": "python3"
  },
  "language_info": {
   "codemirror_mode": {
    "name": "ipython",
    "version": 3
   },
   "file_extension": ".py",
   "mimetype": "text/x-python",
   "name": "python",
   "nbconvert_exporter": "python",
   "pygments_lexer": "ipython3",
   "version": "3.8.3"
  }
 },
 "nbformat": 4,
 "nbformat_minor": 4
}
