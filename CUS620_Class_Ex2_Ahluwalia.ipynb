{
 "cells": [
  {
   "cell_type": "markdown",
   "metadata": {},
   "source": [
    "# NAME : Bhavesh Ahluwalia \n",
    "#CLASS   620 \n",
    "#EXERCISE 2"
   ]
  },
  {
   "cell_type": "markdown",
   "metadata": {},
   "source": [
    "Chapter 3\n",
    "Exercises 85"
   ]
  },
  {
   "cell_type": "markdown",
   "metadata": {},
   "source": [
    "# book exercise "
   ]
  },
  {
   "cell_type": "markdown",
   "metadata": {},
   "source": [
    "# 3.18\n",
    "Assume a, b, and c have been defined in the interactive shell as shown:\n",
    ">>> a, b, c = 3, 4, 5\n",
    "Within the interactive shell, write if statements that print 'OK' if:\n",
    "(a) a is less than b.\n",
    "(b) c is less than b.\n",
    "(c) The sum of a and b is equal to c.\n",
    "(d) The sum of the squares a and b is equal to c squared.\n"
   ]
  },
  {
   "cell_type": "code",
   "execution_count": 1,
   "metadata": {},
   "outputs": [],
   "source": [
    "a=3\n",
    "b=4\n",
    "c=5"
   ]
  },
  {
   "cell_type": "code",
   "execution_count": 2,
   "metadata": {},
   "outputs": [
    {
     "name": "stdout",
     "output_type": "stream",
     "text": [
      "OK\n"
     ]
    }
   ],
   "source": [
    "#(a) a is less than b.\n",
    "if a<b:\n",
    "    print('OK')"
   ]
  },
  {
   "cell_type": "code",
   "execution_count": 3,
   "metadata": {},
   "outputs": [],
   "source": [
    "#(b) c is less than b.\n",
    "if c<b:\n",
    "    print('OK') \n",
    "    #This will not print anything because c=5 and b=4 and \n",
    "    #we know 5 is more than 4 co, c is more than b but not less than b."
   ]
  },
  {
   "cell_type": "code",
   "execution_count": 4,
   "metadata": {},
   "outputs": [],
   "source": [
    "#(c) The sum of a and b is equal to c.\n",
    "if (a+b)==c:\n",
    "    print(\"ok\")\n",
    "  #This will not print anything because a+b is not equal to c. 3+4=7 so, 7is not equal to 5"
   ]
  },
  {
   "cell_type": "code",
   "execution_count": 5,
   "metadata": {},
   "outputs": [],
   "source": [
    "#d) The sum of the squares a and b is equal to c squared.\n",
    "if ((a+b)*2)==c:\n",
    "    print(\"ok\")\n",
    "    #This will not print anything because sum of the squares a and b is 49 which is not equal to value of c whichis 5."
   ]
  },
  {
   "cell_type": "markdown",
   "metadata": {},
   "source": [
    "# 3.20\n",
    "Write a for loop that iterates over a list of strings lst and prints the first three char- acters of every word. If lst is the list ['January', 'February', 'March'] then the following should be printed:\n",
    "Jan Feb Mar"
   ]
  },
  {
   "cell_type": "code",
   "execution_count": 6,
   "metadata": {},
   "outputs": [
    {
     "name": "stdout",
     "output_type": "stream",
     "text": [
      "Jan\n",
      "Feb\n",
      "Mar\n"
     ]
    }
   ],
   "source": [
    "list = ['January', 'February', 'March']\n",
    "for char in list:\n",
    "    print(char[0:3]) #this will only print from vector 0 to vector 3.\n"
   ]
  },
  {
   "cell_type": "markdown",
   "metadata": {},
   "source": [
    "# 3.22\n",
    "Write a for loop that iterates over a list of numbers lst and prints the numbers in the list whose square is divisible by 8. For example, if lst is [2, 3, 4, 5, 6, 7, 8, 9], then the numbers 4 and 8 should be printed."
   ]
  },
  {
   "cell_type": "code",
   "execution_count": 7,
   "metadata": {},
   "outputs": [
    {
     "name": "stdout",
     "output_type": "stream",
     "text": [
      "4\n",
      "8\n"
     ]
    }
   ],
   "source": [
    "lst= [2, 3, 4, 5, 6, 7, 8, 9]\n",
    "for num in lst:\n",
    "    if (num * num) % 8 == 0:\n",
    "        print(num)\n",
    "        \n",
    "        #The key idea is finding the square, for it use num * num.\n",
    "         #To check if a number x is divisible by 8 you use x % 8 == 0\n",
    "       "
   ]
  },
  {
   "cell_type": "markdown",
   "metadata": {},
   "source": [
    "# 3.24\n",
    "Implement a program that requests a list of words from the user and then prints each word in the list that is not 'secret'.\n",
    ">>>\n",
    "Enter list of words: ['cia','secret','mi6','isi','secret'] cia\n",
    "mi6\n",
    "isi"
   ]
  },
  {
   "cell_type": "code",
   "execution_count": 33,
   "metadata": {},
   "outputs": [
    {
     "name": "stdout",
     "output_type": "stream",
     "text": [
      "enter list of words: cia secret mi6 isi secret\n",
      "cia\n",
      "mi6\n",
      "isi\n"
     ]
    }
   ],
   "source": [
    "list= input('enter list of words: ').split(\" \") #input from user and it will split \n",
    "for n in list:\n",
    "    if(n)!='secret': #condition and remove the secret word \n",
    "        print(n)"
   ]
  },
  {
   "cell_type": "markdown",
   "metadata": {},
   "source": [
    "# 3.26\n",
    "Implement a program that requests a nonempty list from the user and prints on the screen a message giving the first and last element of the list.\n",
    "   >>>\n",
    "   Enter a list: [3, 5, 7, 9]\n",
    "   The first list element is 3\n",
    "   The last list element is 9"
   ]
  },
  {
   "cell_type": "code",
   "execution_count": 34,
   "metadata": {},
   "outputs": [
    {
     "name": "stdout",
     "output_type": "stream",
     "text": [
      "enter a nonempty list: 3,5,7,9\n",
      "The first element of list is 3\n",
      "The last element of list is 9\n"
     ]
    }
   ],
   "source": [
    "list= input('enter a nonempty list: ')\n",
    "\n",
    "# using to get first and last element of list \n",
    "first = list[0]\n",
    "last  = list[-1]\n",
    "  \n",
    "print (\"The first element of list is \" +  first) \n",
    "print (\"The last element of list is \" +  last) "
   ]
  },
  {
   "cell_type": "markdown",
   "metadata": {},
   "source": [
    "\n",
    "# 3.28\n",
    "Implement a program that requests an integer n from the user and prints on the screen the squares of all numbers from 0 up to, but not including, n.\n",
    "   >>>\n",
    "   Enter n: 3\n",
    "   0\n",
    "   1\n",
    "   4\n"
   ]
  },
  {
   "cell_type": "code",
   "execution_count": 1,
   "metadata": {},
   "outputs": [
    {
     "name": "stdout",
     "output_type": "stream",
     "text": [
      "enter a number n:5\n",
      "0\n",
      "1\n",
      "4\n",
      "9\n",
      "16\n"
     ]
    }
   ],
   "source": [
    "n=int(input('enter a number n:'))\n",
    "for i in range(0,n):\n",
    "    w=i*i # multiplying so we can get squares of the number\n",
    "    if w==n: #condition if the number reached to user number \n",
    "        break\n",
    "\n",
    "    print(w)"
   ]
  },
  {
   "cell_type": "markdown",
   "metadata": {},
   "source": [
    "# 3.30\n",
    "Implement a program that requests four numbers (integer or floating-point) from the user. Your program should compute the average of the first three numbers and compare the average to the fourth number. If they are equal, your program should print 'Equal' on the screen.\n",
    ">>>\n",
    "Enter first number: 4.5 Enter second number: 3 Enter third number: 3 Enter last number: 3.5 Equal"
   ]
  },
  {
   "cell_type": "code",
   "execution_count": 55,
   "metadata": {},
   "outputs": [
    {
     "name": "stdout",
     "output_type": "stream",
     "text": [
      "[Enter first number: ]4.5\n",
      "[Enter second number: ]3\n",
      "[Enter third number: ]3\n",
      "[Enter fourth number: ]3.5\n",
      "Equal\n"
     ]
    }
   ],
   "source": [
    "n1 = float(input('[Enter first number: ]'))\n",
    "n2 = float(input('[Enter second number: ]'))\n",
    "n3 = float(input('[Enter third number: ]'))\n",
    "n4 = float(input('[Enter fourth number: ]'))\n",
    "\n",
    "n = (n1 + n2 + n3) / 3 #computing average \n",
    "\n",
    "if n == n4: #check the average with the number 4 user entered \n",
    "    print('Equal')"
   ]
  },
  {
   "cell_type": "markdown",
   "metadata": {},
   "source": [
    "# 3.32\n",
    "Write a program that requests a positive four-digit integer from the user and prints its digits. You are not allowed to use the string data type operations to do this task. Your pro- gram should simply read the input as an integer and process it as an integer, using standard arithmetic operations (+, *, -, /, %, etc).\n",
    "   >>>\n",
    "   Enter n: 1234\n",
    "   1\n",
    "   2\n",
    "   3\n",
    "   4"
   ]
  },
  {
   "cell_type": "code",
   "execution_count": 57,
   "metadata": {},
   "outputs": [
    {
     "name": "stdout",
     "output_type": "stream",
     "text": [
      "Enter n: 1234\n",
      "1\n",
      "2\n",
      "3\n",
      "4\n"
     ]
    }
   ],
   "source": [
    "num= int(input('Enter n: '))\n",
    "mod = num//1000          #first number\n",
    "count = (num%1000 - num%100)//100    #second number\n",
    "dec = (num%100 - num%10)//10        #third number\n",
    "unit = num%10                      #fourth number\n",
    "\n",
    "print(mod)\n",
    "print(count)\n",
    "print(dec)\n",
    "print(unit)"
   ]
  },
  {
   "cell_type": "markdown",
   "metadata": {},
   "source": [
    "\n",
    "# 3.34\n",
    "Implement function pay() that takes as input two arguments: an hourly wage and the number of hours an employee worked in the last week. Your function should compute and return the employee’s pay. Any hours worked beyond 40 is overtime and should be paid at 1.5 times the regular hourly wage.\n",
    ">>> pay(10, 35)\n",
    "350\n",
    ">>> pay(10, 45) \n",
    "475.0"
   ]
  },
  {
   "cell_type": "code",
   "execution_count": 2,
   "metadata": {},
   "outputs": [
    {
     "data": {
      "text/plain": [
       "475.0"
      ]
     },
     "execution_count": 2,
     "metadata": {},
     "output_type": "execute_result"
    }
   ],
   "source": [
    "def pay(hourly, hours):\n",
    "    if hours > 40:      # condition if hours is bigger than 40\n",
    "        salary = 40 * hourly\n",
    "        salary = salary+ hourly * (hours-40) * 1.5\n",
    "        return salary\n",
    "    else:\n",
    "            return hours * hourly\n",
    "            \n",
    "\n",
    "\n",
    "pay(10,45)"
   ]
  },
  {
   "cell_type": "markdown",
   "metadata": {},
   "source": [
    "# 3.36 \n",
    "Implement function reverse_int() that takes a three-digit integer as input and re- turns the integer obtained by reversing its digits. For example, if the input is 123, your function should return 321. You are not allowed to use the string data type operations to do this task. Your program should simply read the input as an integer and process it as an integer using operators such as // and %. You may assume that the input integer does not end with the 0 digit.\n",
    ">>> reverse_int(123) 321\n",
    ">>> reverse_int(908) 809"
   ]
  },
  {
   "cell_type": "code",
   "execution_count": 52,
   "metadata": {},
   "outputs": [
    {
     "name": "stdout",
     "output_type": "stream",
     "text": [
      "enter the number : 123\n",
      "reverse:  321\n"
     ]
    }
   ],
   "source": [
    "#example 1 input from the user\n",
    "def reverse_int(n):\n",
    "    d=0\n",
    "    rev=0\n",
    "    while(n>0& n<3): # while loop with condition \n",
    "        d=n%10      #getting the last number\n",
    "        n=int(n/10)# getting the middle number\n",
    "        rev=rev*10+d #getting the first number\n",
    "    return rev\n",
    "x= int(input(\"enter the number : \"))\n",
    "r= reverse_int(x)\n",
    "print(\"reverse: \",r)"
   ]
  },
  {
   "cell_type": "code",
   "execution_count": 51,
   "metadata": {},
   "outputs": [
    {
     "data": {
      "text/plain": [
       "321"
      ]
     },
     "execution_count": 51,
     "metadata": {},
     "output_type": "execute_result"
    }
   ],
   "source": [
    "#example 2 different way\n",
    "def reverse_int(n):\n",
    "    x=0\n",
    "    while(n!=0):\n",
    "        x*=10\n",
    "        x+=n%10\n",
    "        n=n//10\n",
    "    return x\n",
    "\n",
    "reverse_int(123)"
   ]
  },
  {
   "cell_type": "markdown",
   "metadata": {},
   "source": [
    "# 3.38\n",
    "Implement function abbreviation() that takes a day of the week as input and returns its two-letter abbreviation.\n",
    ">>> abbreviation('Tuesday') 'Tu'"
   ]
  },
  {
   "cell_type": "code",
   "execution_count": 5,
   "metadata": {},
   "outputs": [
    {
     "data": {
      "text/plain": [
       "'Tu'"
      ]
     },
     "execution_count": 5,
     "metadata": {},
     "output_type": "execute_result"
    }
   ],
   "source": [
    "def abbreviation(day):\n",
    "    if(day == \"Monday\"): # used if statment to check if user put certain string then print this in different cases.\n",
    "        return \"Mo\"\n",
    "    if(day == \"Tuesday\"):\n",
    "        return \"Tu\"\n",
    "    if(day == \"Wednesday\"):\n",
    "        return \"We\"\n",
    "    if(day == \"Thursday\"):\n",
    "        return \"Th\"\n",
    "    if(day == \"Friday\"):\n",
    "        return \"Fr\"\n",
    "    if(day == \"Saturday\"):\n",
    "        return \"Sa\"\n",
    "    if(day == \"Sunday\"):\n",
    "        return \"Su\"\n",
    "    \n",
    "abbreviation('Tuesday')"
   ]
  },
  {
   "cell_type": "markdown",
   "metadata": {},
   "source": [
    "# 3.40\n",
    "Implement function partition() that splits a list of soccer players into two groups. More precisely, it takes a list of first names (strings) as input and prints the names of those soccer players whose first name starts with a letter between and including A and M.\n",
    ">>> partition(['Eleanor', 'Evelyn', 'Sammy', 'Owen', 'Gavin']) Eleanor\n",
    "Evelyn\n",
    "Gavin"
   ]
  },
  {
   "cell_type": "code",
   "execution_count": 40,
   "metadata": {},
   "outputs": [
    {
     "name": "stdout",
     "output_type": "stream",
     "text": [
      "Eleanor\n",
      "Evelyn\n",
      "Gavin\n"
     ]
    }
   ],
   "source": [
    "def partition(list):\n",
    "    for name in list: # for loop run run till it check all the string names\n",
    "        if name[0] >= \"A\" and name[0] <= \"M\": #take out the name with letter between and including A and M.\n",
    "            print(name)\n",
    "            \n",
    "partition(['Eleanor', 'Evelyn', 'Sammy', 'Owen', 'Gavin'])"
   ]
  },
  {
   "cell_type": "markdown",
   "metadata": {},
   "source": [
    "# 3.42\n",
    "Implement function avg() that takes as input a list that contains lists of numbers. Each number list represents the grades a particular student received for a course. For example, here is an input list for a class of four students:\n",
    "   [[95, 92, 86, 87], [66, 54], [89, 72, 100], [33, 0, 0]]\n",
    "The function avg should print, one per line, every student’s average grade. You may assume that every list of grades is nonempty, but you may not assume that every student has the same number of grades.\n",
    ">>> avg([[95, 92, 86, 87], [66, 54], [89, 72, 100], [33, 0, 0]]) \n",
    "90.0\n",
    "60.0\n",
    "87.0\n",
    "11.0\n"
   ]
  },
  {
   "cell_type": "code",
   "execution_count": 34,
   "metadata": {},
   "outputs": [],
   "source": [
    "#avg = ([95,92,86,87],[66,54,],[89,72,100],[33,0,0])\n"
   ]
  },
  {
   "cell_type": "code",
   "execution_count": 37,
   "metadata": {},
   "outputs": [
    {
     "name": "stdout",
     "output_type": "stream",
     "text": [
      "90.0\n",
      "60.0\n",
      "87.0\n",
      "11.0\n"
     ]
    }
   ],
   "source": [
    "def avg(lists):\n",
    "    for list in lists:\n",
    "        total=sum(list) # this will sum the list number and store it in total\n",
    "        length= len(list) # this will count the list number and store it in length\n",
    "        print(total/length) # then divide total with length\n",
    "        \n",
    "avg([[95,92,86,87],[66,54,],[89,72,100],[33,0,0]])"
   ]
  },
  {
   "cell_type": "markdown",
   "metadata": {},
   "source": [
    "# 3.44 no need to do this question  but i tried \n",
    "Write a function distance() that takes as input a number: the time elapsed (in sec- onds) between the flash and the sound of thunder. Your function should return the distance to the lightning strike in kilometers. The speed of sound is approximately 340.29 meters per second; there are 1000 meters in one kilometer.\n",
    ">>> distance(3) 1.0208700000000002"
   ]
  },
  {
   "cell_type": "code",
   "execution_count": 30,
   "metadata": {},
   "outputs": [
    {
     "data": {
      "text/plain": [
       "1.0208700000000002"
      ]
     },
     "execution_count": 30,
     "metadata": {},
     "output_type": "execute_result"
    }
   ],
   "source": [
    "def distance(n):\n",
    "    return n*340.29/1000\n",
    "distance(3)"
   ]
  },
  {
   "cell_type": "markdown",
   "metadata": {},
   "source": [
    "# part 2 from the pdf file"
   ]
  },
  {
   "cell_type": "markdown",
   "metadata": {},
   "source": [
    "# 2 Control flow"
   ]
  },
  {
   "cell_type": "markdown",
   "metadata": {},
   "source": [
    "# Exercise 2.1: Range\n",
    "Type range(5) in the interpreter, what does the interpreter return? So what does for i in range(5) mean?\n",
    "\n",
    "Let’s also find out whether the interpreter can help us understand the object ‘range(5)’ better. Type type(range(5)) in the interpreter. More on this soon!\n",
    "\n"
   ]
  },
  {
   "cell_type": "code",
   "execution_count": 70,
   "metadata": {},
   "outputs": [
    {
     "data": {
      "text/plain": [
       "range(0, 5)"
      ]
     },
     "execution_count": 70,
     "metadata": {},
     "output_type": "execute_result"
    }
   ],
   "source": [
    "range(5) #interpreter return range(0, 5) as an output because it is a in built function.\n",
    "#for i in range(5) i in range(5) means to iterate over the n numbers 0, 1, 2, …, n-1\n"
   ]
  },
  {
   "cell_type": "code",
   "execution_count": 71,
   "metadata": {},
   "outputs": [
    {
     "data": {
      "text/plain": [
       "range"
      ]
     },
     "execution_count": 71,
     "metadata": {},
     "output_type": "execute_result"
    }
   ],
   "source": [
    "type(range(5)) # yes, it return the type of function range() is which is range."
   ]
  },
  {
   "cell_type": "markdown",
   "metadata": {},
   "source": [
    "# Exercise 2.2: For loops\n",
    "Use a for loop to:\n",
    "(a) Print the numbers 0 to 100\n",
    "(b) Print the numbers 0 to 100 that are divisible by 7\n",
    "(c) Print the numbers 1 to 100 that are divisible by 5 but not by 3\n",
    "(d) Print for each of the numbers x = 2, . . . 20, all numbers that divide x, excluding 1 and x. Hence, for 18, it should print 2 3 6 9.\n",
    "Hint: see https://docs.python.org/3/library/functions.html#range"
   ]
  },
  {
   "cell_type": "code",
   "execution_count": 14,
   "metadata": {},
   "outputs": [
    {
     "name": "stdout",
     "output_type": "stream",
     "text": [
      "0\n",
      "1\n",
      "2\n",
      "3\n",
      "4\n",
      "5\n",
      "6\n",
      "7\n",
      "8\n",
      "9\n",
      "10\n",
      "11\n",
      "12\n",
      "13\n",
      "14\n",
      "15\n",
      "16\n",
      "17\n",
      "18\n",
      "19\n",
      "20\n",
      "21\n",
      "22\n",
      "23\n",
      "24\n",
      "25\n",
      "26\n",
      "27\n",
      "28\n",
      "29\n",
      "30\n",
      "31\n",
      "32\n",
      "33\n",
      "34\n",
      "35\n",
      "36\n",
      "37\n",
      "38\n",
      "39\n",
      "40\n",
      "41\n",
      "42\n",
      "43\n",
      "44\n",
      "45\n",
      "46\n",
      "47\n",
      "48\n",
      "49\n",
      "50\n",
      "51\n",
      "52\n",
      "53\n",
      "54\n",
      "55\n",
      "56\n",
      "57\n",
      "58\n",
      "59\n",
      "60\n",
      "61\n",
      "62\n",
      "63\n",
      "64\n",
      "65\n",
      "66\n",
      "67\n",
      "68\n",
      "69\n",
      "70\n",
      "71\n",
      "72\n",
      "73\n",
      "74\n",
      "75\n",
      "76\n",
      "77\n",
      "78\n",
      "79\n",
      "80\n",
      "81\n",
      "82\n",
      "83\n",
      "84\n",
      "85\n",
      "86\n",
      "87\n",
      "88\n",
      "89\n",
      "90\n",
      "91\n",
      "92\n",
      "93\n",
      "94\n",
      "95\n",
      "96\n",
      "97\n",
      "98\n",
      "99\n",
      "100\n"
     ]
    }
   ],
   "source": [
    "#(a) Print the numbers 0 to 100\n",
    "for number in range(101):\n",
    "    print(number)"
   ]
  },
  {
   "cell_type": "code",
   "execution_count": 15,
   "metadata": {},
   "outputs": [
    {
     "name": "stdout",
     "output_type": "stream",
     "text": [
      "0\n",
      "7\n",
      "14\n",
      "21\n",
      "28\n",
      "35\n",
      "42\n",
      "49\n",
      "56\n",
      "63\n",
      "70\n",
      "77\n",
      "84\n",
      "91\n",
      "98\n"
     ]
    }
   ],
   "source": [
    "#(b) Print the numbers 0 to 100 that are divisible by 7\n",
    "for number in range(101):\n",
    "    if (number%7==0): #check condition if the number is divisived. by 7\n",
    "        print(number)"
   ]
  },
  {
   "cell_type": "code",
   "execution_count": 16,
   "metadata": {},
   "outputs": [
    {
     "name": "stdout",
     "output_type": "stream",
     "text": [
      "5\n",
      "10\n",
      "20\n",
      "25\n",
      "35\n",
      "40\n",
      "50\n",
      "55\n",
      "65\n",
      "70\n",
      "80\n",
      "85\n",
      "95\n",
      "100\n"
     ]
    }
   ],
   "source": [
    "#(c) Print the numbers 1 to 100 that are divisible by 5 but not by 3\n",
    "for number in range(101):\n",
    "    if (number%5==0 and number%3!=0): #check condition if the number is divisived by 5 but not by 3\n",
    "        print(number)"
   ]
  },
  {
   "cell_type": "code",
   "execution_count": 1,
   "metadata": {},
   "outputs": [
    {
     "name": "stdout",
     "output_type": "stream",
     "text": [
      "insert num from 1 to 20: 18\n",
      "2\n",
      "3\n",
      "6\n",
      "9\n"
     ]
    }
   ],
   "source": [
    "#(d) Print for each of the numbers x = 2, . . . 20, all numbers that\n",
    "#divide x, excluding 1 and x. Hence, for 18, it should print 2 3 6 9.\n",
    "\n",
    "n=int(input('insert num from 1 to 20: ')) #take input as interger \n",
    "for number in range(2,21):\n",
    "  #  if (number/18==x):\n",
    "    if (n%number==0 and number!=1 and number!=n):#check if n mod range number is 0 but not 1 and not equal to n \n",
    "        print(number)\n"
   ]
  },
  {
   "cell_type": "markdown",
   "metadata": {},
   "source": [
    "# Exercise 2.3: Simple while loops\n",
    "Instead of using a for loop, use a while loop to:\n",
    "(a) Print the numbers 0 to 100\n",
    "(b) Print the numbers 0 to 100 that are divisible by 7"
   ]
  },
  {
   "cell_type": "code",
   "execution_count": 12,
   "metadata": {},
   "outputs": [
    {
     "name": "stdout",
     "output_type": "stream",
     "text": [
      "0\n",
      "1\n",
      "2\n",
      "3\n",
      "4\n",
      "5\n",
      "6\n",
      "7\n",
      "8\n",
      "9\n",
      "10\n",
      "11\n",
      "12\n",
      "13\n",
      "14\n",
      "15\n",
      "16\n",
      "17\n",
      "18\n",
      "19\n",
      "20\n",
      "21\n",
      "22\n",
      "23\n",
      "24\n",
      "25\n",
      "26\n",
      "27\n",
      "28\n",
      "29\n",
      "30\n",
      "31\n",
      "32\n",
      "33\n",
      "34\n",
      "35\n",
      "36\n",
      "37\n",
      "38\n",
      "39\n",
      "40\n",
      "41\n",
      "42\n",
      "43\n",
      "44\n",
      "45\n",
      "46\n",
      "47\n",
      "48\n",
      "49\n",
      "50\n",
      "51\n",
      "52\n",
      "53\n",
      "54\n",
      "55\n",
      "56\n",
      "57\n",
      "58\n",
      "59\n",
      "60\n",
      "61\n",
      "62\n",
      "63\n",
      "64\n",
      "65\n",
      "66\n",
      "67\n",
      "68\n",
      "69\n",
      "70\n",
      "71\n",
      "72\n",
      "73\n",
      "74\n",
      "75\n",
      "76\n",
      "77\n",
      "78\n",
      "79\n",
      "80\n",
      "81\n",
      "82\n",
      "83\n",
      "84\n",
      "85\n",
      "86\n",
      "87\n",
      "88\n",
      "89\n",
      "90\n",
      "91\n",
      "92\n",
      "93\n",
      "94\n",
      "95\n",
      "96\n",
      "97\n",
      "98\n",
      "99\n",
      "100\n"
     ]
    }
   ],
   "source": [
    "#(a) Print the numbers 0 to 100\n",
    "i = 0\n",
    "while i <= 100: #while loop to print from 0 to 100. i starts with 0 and run continuesly till it reached 100 \n",
    "    print(i)\n",
    "    i = i+ 1\n",
    "\n",
    "\n"
   ]
  },
  {
   "cell_type": "code",
   "execution_count": 24,
   "metadata": {},
   "outputs": [
    {
     "name": "stdout",
     "output_type": "stream",
     "text": [
      "0\n",
      "7\n",
      "14\n",
      "21\n",
      "28\n",
      "35\n",
      "42\n",
      "49\n",
      "56\n",
      "63\n",
      "70\n",
      "77\n",
      "84\n",
      "91\n",
      "98\n"
     ]
    }
   ],
   "source": [
    "#(b) Print the numbers 0 to 100 that are divisible by 7\n",
    "x = 0\n",
    "while x <=100:\n",
    "    if(x%7==0): #x starts with 0 and run continuesly till it reached 100   but with condition x is not divisible by 7\n",
    "        print(x)\n",
    "    x = x + 1"
   ]
  },
  {
   "cell_type": "markdown",
   "metadata": {},
   "source": [
    "# Exercise 2.4: Hangman update 1\n",
    "Let’s reconsider the hangman code master.zip (see in data section). We noted that the computer agent is not very good at guessing. Update the code such that the computer guesses ‘e’ first, and ‘a’ second.\n",
    "Use the simulate.py script to see if this improves performance.\n",
    "Feel free to play around and see if you can do better!"
   ]
  },
  {
   "cell_type": "code",
   "execution_count": null,
   "metadata": {},
   "outputs": [],
   "source": [
    "# we did not cover this topic in class yet "
   ]
  },
  {
   "cell_type": "markdown",
   "metadata": {},
   "source": [
    "# Exercise 2.5: While loops\n",
    "Use a while loop to find the first 20 numbers that are divisible by 5, 7 and 11, and print them Hint: store the number found so far in a variable.\n",
    "Pseudo-code:\n",
    "number found = 0\n",
    "x = 11\n",
    "while number found is less than 20:\n",
    "if x is divisible by 5, 7 and 11: print x\n",
    "increase number found by 1 increase x by 1"
   ]
  },
  {
   "cell_type": "code",
   "execution_count": 4,
   "metadata": {},
   "outputs": [],
   "source": [
    "numberfound =0\n",
    "x=11\n",
    "while numberfound <20:\n",
    "    if (x%5==0 and x%7==0 and x%11==0):\n",
    "    #if (x%5==0 and x%7==0):\n",
    "    #if (x%2==0 and x%4==0 and x%6==0):\n",
    "        print(x)\n",
    "    numberfound = numberfound +1\n",
    "    x = x+1"
   ]
  },
  {
   "cell_type": "markdown",
   "metadata": {},
   "source": [
    "# Exercise 2.6: More while loops\n",
    "The smallest number that is divisible by 2, 3 and 4 is 12. Find the smallest number that is divisible by all integers between 1 and 10."
   ]
  },
  {
   "cell_type": "code",
   "execution_count": 2,
   "metadata": {},
   "outputs": [
    {
     "name": "stdout",
     "output_type": "stream",
     "text": [
      "2520\n"
     ]
    }
   ],
   "source": [
    "# with while loop \n",
    "number=0\n",
    "x=1\n",
    "while number<1:\n",
    "    if x%1==0 and x%2==0 and x%3==0 and x%4==0 and x%5==0 and x%6==0 and x%7==0 and x%8==0 and x%9==0 and x%10==0:\n",
    "        print(x)\n",
    "        number=number+1\n",
    "    x=x+1"
   ]
  },
  {
   "cell_type": "code",
   "execution_count": 3,
   "metadata": {},
   "outputs": [
    {
     "name": "stdout",
     "output_type": "stream",
     "text": [
      "2520\n"
     ]
    }
   ],
   "source": [
    "#with for loop example 2\n",
    "smallest = 1\n",
    "for i in range (1,10):\n",
    "    #if smallest % i > 0: # If the number is not divisible by i\n",
    "        for k in range (1,10):\n",
    "            if (smallest * k) % i == 0: # Find the smallest number divisible by i    \n",
    "                smallest = smallest * k\n",
    "                break\n",
    "print (smallest)"
   ]
  },
  {
   "cell_type": "markdown",
   "metadata": {},
   "source": [
    "# Exercise 2.7: Collatz sequence\n",
    "A Collatz sequence is formed as follows: We start with some number x0, and we find the next number in the sequence by\n",
    ".xi/2 ifxi iseven xi+1 = 3xi +1 ifxi isodd\n",
    "If xi = 1, we stop iterating and have found the full sequence. For example, if we start with x0 = 5, we obtain the sequence:\n",
    "5 16 8 4 2 1\n",
    "It is conjectured, though not proven, that every chain eventually ends at 1. Print the Collatz sequence starting at x0 = 103."
   ]
  },
  {
   "cell_type": "code",
   "execution_count": 5,
   "metadata": {},
   "outputs": [
    {
     "name": "stdout",
     "output_type": "stream",
     "text": [
      "103 310 155 466 233 700 350 175 526 263 790 395 1186 593 1780 890 445 1336 668 334 167 502 251 754 377 1132 566 283 850 425 1276 638 319 958 479 1438 719 2158 1079 3238 1619 4858 2429 7288 3644 1822 911 2734 1367 4102 2051 6154 3077 9232 4616 2308 1154 577 1732 866 433 1300 650 325 976 488 244 122 61 184 92 46 23 70 35 106 53 160 80 40 20 10 5 16 8 4 2 1\n"
     ]
    }
   ],
   "source": [
    "def printCollatz(n): \n",
    "    # We simply follow steps \n",
    "    #in question it says \n",
    "    #if n is even, then n = n / 2.\n",
    "    #If n is odd, then n = 3*n + 1.\n",
    "    #Repeat above steps, until it becomes 1.\n",
    "    while n != 1: \n",
    "        print(n, end = ' ') \n",
    "# If n is odd  \n",
    "        if n & 1: \n",
    "            n = 3 * n + 1\n",
    "# If even  \n",
    "        else: \n",
    "            n = n // 2\n",
    "# Print 1 at the end  \n",
    "    print(n) \n",
    "    \n",
    "printCollatz(103) "
   ]
  },
  {
   "cell_type": "code",
   "execution_count": null,
   "metadata": {},
   "outputs": [],
   "source": []
  },
  {
   "cell_type": "markdown",
   "metadata": {},
   "source": [
    "# 3 Functions"
   ]
  },
  {
   "cell_type": "markdown",
   "metadata": {},
   "source": [
    "# Exercise 3.1: Hello\n",
    "(a) Write a function hello_world that prints ‘Hello, world!’\n",
    "(b) Write a function hello_name(name) that prints ‘Hello, name!’ where name is a string.\n",
    "(c) Explain the difference between the print and return keywords. What would change if instead of print you would use return?"
   ]
  },
  {
   "cell_type": "code",
   "execution_count": 14,
   "metadata": {},
   "outputs": [
    {
     "name": "stdout",
     "output_type": "stream",
     "text": [
      "Hello World!\n"
     ]
    }
   ],
   "source": [
    "#(a) Write a function hello_world that prints ‘Hello, world!’\n",
    "def hello_world():\n",
    "    print('Hello World!')\n",
    "\n",
    "hello_world()"
   ]
  },
  {
   "cell_type": "code",
   "execution_count": 21,
   "metadata": {},
   "outputs": [
    {
     "name": "stdout",
     "output_type": "stream",
     "text": [
      "Hello, Bhavesh!\n"
     ]
    }
   ],
   "source": [
    "#(b) Write a function hello_name(name) that prints ‘Hello, name!’ where name is a string.\n",
    "def hello_name(name):\n",
    "    print(\"Hello, \" + name + \"!\")\n",
    "    \n",
    "hello_name('Bhavesh')"
   ]
  },
  {
   "cell_type": "code",
   "execution_count": null,
   "metadata": {},
   "outputs": [],
   "source": [
    "#(c) Explain the difference between the print and return keywords. What would change if instead of print you would use return?\n",
    "\n",
    "#well, if we talk about print  print function print () will just print/output a string or a number on the console \n",
    "#on the other hand, return stores the value and this value can be used by the program whenever required. "
   ]
  },
  {
   "cell_type": "markdown",
   "metadata": {},
   "source": [
    "# Exercise 3.2: Polynomial\n",
    "Write a function that evaluates the polynomial 3x^2 − x+ 2.\n"
   ]
  },
  {
   "cell_type": "code",
   "execution_count": 23,
   "metadata": {},
   "outputs": [
    {
     "data": {
      "text/plain": [
       "72"
      ]
     },
     "execution_count": 23,
     "metadata": {},
     "output_type": "execute_result"
    }
   ],
   "source": [
    "def p(x):\n",
    "    return 3*x**2 - x +2 #evaluate the polynomial\n",
    "p(5)"
   ]
  },
  {
   "cell_type": "markdown",
   "metadata": {},
   "source": [
    "# Exercise 3.3: Maximum\n",
    "Write a function my_max(x,y) that returns the maximum of x and y. Do not use the max function, but use if instead in following two ways:\n",
    "(a) Use both if and else.\n",
    "(b) Use if but not else (nor elif)."
   ]
  },
  {
   "cell_type": "code",
   "execution_count": 33,
   "metadata": {},
   "outputs": [
    {
     "name": "stdout",
     "output_type": "stream",
     "text": [
      "70\n"
     ]
    }
   ],
   "source": [
    "#(a) Use both if and else.\n",
    "def my_max(x,y):\n",
    "    if x>y: #it checks if x is bigger than y \n",
    "        print(x)\n",
    "    else:\n",
    "        print(y)\n",
    "my_max(50,70)"
   ]
  },
  {
   "cell_type": "code",
   "execution_count": 35,
   "metadata": {},
   "outputs": [
    {
     "name": "stdout",
     "output_type": "stream",
     "text": [
      "70\n"
     ]
    }
   ],
   "source": [
    "#(b) Use if but not else (nor elif).\n",
    "def my_max(x,y):\n",
    "    if x>y: #it checks if x is bigger than y \n",
    "        print(x)\n",
    "    if y>x: #it checks if y is bigger than x\n",
    "        print(y)\n",
    "my_max(50,70)"
   ]
  },
  {
   "cell_type": "markdown",
   "metadata": {},
   "source": [
    "# Exercise 3.4: Primes\n",
    "(a) Write a function is_prime(n) that returns True only if n is prime.\n",
    "(b) Note that apart from 2 and 3, all primes are of the form 6k±1 (though not all numbers of the\n",
    " form 6k 1 are prime of course). Using this, we can improve the computation time by a factor 3. ±\n",
    "Update your function to use this.\n",
    "(c) Write a function that returns all primes up to n.\n",
    "(d) Write a function that returns the first n primes."
   ]
  },
  {
   "cell_type": "code",
   "execution_count": 35,
   "metadata": {},
   "outputs": [
    {
     "data": {
      "text/plain": [
       "True"
      ]
     },
     "execution_count": 35,
     "metadata": {},
     "output_type": "execute_result"
    }
   ],
   "source": [
    "#(a) Write a function is_prime(n) that returns True only if n is prime.\n",
    "def isPrime(n) : \n",
    "    for all in range(2,n):\n",
    "        return n%all !=0\n",
    "\n",
    "isPrime(13)"
   ]
  },
  {
   "cell_type": "code",
   "execution_count": 1,
   "metadata": {},
   "outputs": [
    {
     "data": {
      "text/plain": [
       "True"
      ]
     },
     "execution_count": 1,
     "metadata": {},
     "output_type": "execute_result"
    }
   ],
   "source": [
    "#(b) Note that apart from 2 and 3, all primes are of the form 6k±1 (though not all numbers of the\n",
    "# form 6k 1 are prime of course). Using this, we can improve the computation time by a factor 3. ±\n",
    "def isPrime(n) : \n",
    "    if (n <= 1) : \n",
    "        return False\n",
    "    if (n <= 3) : \n",
    "        return True\n",
    "    if (n % 2 == 0 or n % 3 == 0) : #here is the 6k+-1 approach  \n",
    "        return False\n",
    "    i = 5\n",
    "    while(i * i <= n) : \n",
    "        if (n % i == 0 or n % (i + 2) == 0) : \n",
    "            return False\n",
    "        i = i + 6\n",
    "    return True\n",
    "\n",
    "isPrime(13)\n"
   ]
  },
  {
   "cell_type": "code",
   "execution_count": 14,
   "metadata": {},
   "outputs": [
    {
     "name": "stdout",
     "output_type": "stream",
     "text": [
      "2 3 5 7 11 13 17 19 23 29 31 37 41 43 47 "
     ]
    }
   ],
   "source": [
    "#(c) Write a function that returns all primes up to n.\n",
    "\n",
    "#example 1  with while loop\n",
    "def isPrime(n) : \n",
    "    if (n <= 1) : \n",
    "        return False\n",
    "    if (n <= 3) : \n",
    "        return True\n",
    "    if (n % 2 == 0 or n % 3 == 0) : \n",
    "        return False  \n",
    "    i = 5\n",
    "    while(i * i <= n) : \n",
    "        if (n % i == 0 or n % (i + 2) == 0) : \n",
    "            return False\n",
    "        i = i + 6\n",
    "   \n",
    "    return True \n",
    "# print all prime numbers less than equal to N  \n",
    "def printPrime(n): \n",
    "    for i in range(2, n + 1): \n",
    "        if isPrime(i): \n",
    "            print (i, end =\" \")  \n",
    "   \n",
    "          \n",
    "printPrime(50)  "
   ]
  },
  {
   "cell_type": "code",
   "execution_count": 17,
   "metadata": {},
   "outputs": [
    {
     "name": "stdout",
     "output_type": "stream",
     "text": [
      "2 3 5 7 11 13 17 19 23 29 31 37 41 43 47 "
     ]
    }
   ],
   "source": [
    "#example 2  with for loop \n",
    "#(c) Write a function that returns all primes up to n.\n",
    "def isPrime():\n",
    "    for i in range(2,50):\n",
    "        for j in range(2,i):\n",
    "            if (i%j==0):\n",
    "                break\n",
    "        else:\n",
    "            print(i, end =\" \")\n",
    "isPrime()"
   ]
  },
  {
   "cell_type": "code",
   "execution_count": null,
   "metadata": {},
   "outputs": [],
   "source": []
  },
  {
   "cell_type": "code",
   "execution_count": 16,
   "metadata": {},
   "outputs": [
    {
     "data": {
      "text/plain": [
       "[1, 2, 3, 5, 7, 11, 13, 17, 19, 23, 29, 31, 37, 41, 43, 47, 53, 59]"
      ]
     },
     "execution_count": 16,
     "metadata": {},
     "output_type": "execute_result"
    }
   ],
   "source": [
    "#(d) Write a function that returns the first n primes.\n",
    "def isPrime(x):\n",
    "    prime =[]\n",
    "    \n",
    "    for i in range (1,10000):\n",
    "        for j in range (2,i):\n",
    "            if i%j==0:\n",
    "                break\n",
    "        else:\n",
    "                prime.append(i)\n",
    "                if len(prime)==x:\n",
    "                    return prime\n",
    "isPrime(18)"
   ]
  },
  {
   "cell_type": "markdown",
   "metadata": {},
   "source": [
    "# Exercise 3.5: Root ftnding\n",
    "Suppose f is a continuous function and f (a) < 0 and f(b) > 0 for some known a and b. For simplicity, assume a < b. Then, there must exist some c such that f (c) = 0.\n",
    "(a) Write a function root(f, a, b) that takes a function f and two floats a and b and returns the root c. Hint: check the sign at the midpoint of the interval.\n",
    "(b) Remove the assumption that a < b, and that f(a) < 0 and f(b) > 0, if your current code relies on them.\n",
    "(c) Add a check that prints\n",
    "‘function evals have same sign’\n",
    "if f (a) > 0 and f (b) > 0 or if f (a) < 0 and f (b) < 0."
   ]
  },
  {
   "cell_type": "code",
   "execution_count": null,
   "metadata": {},
   "outputs": [],
   "source": [
    "# we did not cover this topic in class yet "
   ]
  }
 ],
 "metadata": {
  "kernelspec": {
   "display_name": "Python 3",
   "language": "python",
   "name": "python3"
  },
  "language_info": {
   "codemirror_mode": {
    "name": "ipython",
    "version": 3
   },
   "file_extension": ".py",
   "mimetype": "text/x-python",
   "name": "python",
   "nbconvert_exporter": "python",
   "pygments_lexer": "ipython3",
   "version": "3.8.3"
  }
 },
 "nbformat": 4,
 "nbformat_minor": 4
}
