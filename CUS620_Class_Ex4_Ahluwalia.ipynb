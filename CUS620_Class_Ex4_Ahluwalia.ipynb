{
 "cells": [
  {
   "cell_type": "markdown",
   "metadata": {},
   "source": [
    "# # CUS620, Class Exercise 3\n",
    "## Your full name: Bhavesh Ahluwalia\n",
    "--------------\n",
    "- ### Note1: you can use this temaplet to answer questions such as class Exercise and HWs\n",
    "- ### Note2: chnage the file name respect to type of assignment, for example: CUS620_Class_Ex1_LastName or CUS620_HW1_LastName\n",
    "---------\n",
    "### if you need help on how to write in Jupyter see here: \n",
    "- Jupyter notebook tutorial: [link](https://nbviewer.jupyter.org/github/ipython/ipython/blob/3.x/examples/Notebook/Index.ipynb)\n",
    "- basic: [link](https://docs.github.com/en/github/writing-on-github/basic-writing-and-formatting-syntax)\n",
    "- advance: [link](https://docs.github.com/en/github/writing-on-github/working-with-advanced-formatting)"
   ]
  },
  {
   "cell_type": "markdown",
   "metadata": {},
   "source": [
    "pdf exercise question"
   ]
  },
  {
   "cell_type": "markdown",
   "metadata": {},
   "source": [
    "# 5 Tuples"
   ]
  },
  {
   "cell_type": "markdown",
   "metadata": {},
   "source": [
    "# Exercise 5.1: Swapping two values\n",
    "Suppose you have two variables: a and b. Now you want to set a equal to the value of b and at the same time set b equal to the value of a.\n",
    "\n",
    "The following obviously does not work\n",
    "a=b \n",
    "b=a\n",
    "\n",
    "so in some languages, you need to define a third variable like this\n",
    "\n",
    "t=a \n",
    "a=b\n",
    "b=t\n",
    "\n",
    "However, in Python you don’t need to do this. How can you swap a and b in one line?"
   ]
  },
  {
   "cell_type": "code",
   "execution_count": 14,
   "metadata": {},
   "outputs": [
    {
     "name": "stdout",
     "output_type": "stream",
     "text": [
      "After Swapping values of a = 100\n",
      "After Swapping values of b = 50\n"
     ]
    }
   ],
   "source": [
    "\n",
    "a=50\n",
    "b=100\n",
    "a,b = b,a #it takes the values of the right side by creating a tuple (b,a). Then this tuple is unpacked and assigned to the variables in the reverse order.\n",
    "print (\"After Swapping values of a =\",a) \n",
    "print (\"After Swapping values of b =\",b) "
   ]
  },
  {
   "cell_type": "markdown",
   "metadata": {},
   "source": [
    "# Exercise 5.2: Zip\n",
    "Suppose we have two lists, x and y that give the x and y coordinates of a set of points. Create a list with the coordinates (x,y) as a tuple. Hint: Find out about the zip function.\n",
    "\n",
    "You have decided that actually, you need the two seperate lists, but unfortunately, you have thrown them away. How can we use zip to unzip the list of tuples to get two lists again?"
   ]
  },
  {
   "cell_type": "code",
   "execution_count": 88,
   "metadata": {},
   "outputs": [
    {
     "name": "stdout",
     "output_type": "stream",
     "text": [
      "[('Sql', 'database'), ('Introduction to', 'python'), ('data', 'mining')]\n"
     ]
    }
   ],
   "source": [
    "classno = ['Sql', 'Introduction to' , 'data'] \n",
    "classname = ['database', 'python', 'mining'] \n",
    "zipped = list(zip(classno, classname)) # this will join the each value of two list together in order form\n",
    "print(zipped)\n"
   ]
  },
  {
   "cell_type": "code",
   "execution_count": 89,
   "metadata": {},
   "outputs": [
    {
     "name": "stdout",
     "output_type": "stream",
     "text": [
      "Two lists of tuples After unzip the zip function \n",
      " \n",
      "[('Sql', 'Introduction to', 'data'), ('database', 'python', 'mining')]\n"
     ]
    }
   ],
   "source": [
    "res = list(zip(*zipped)) # here we can use unpacking operator * to unzip the data and print them separatly\n",
    "print(\"Two lists of tuples After unzip the zip function \\n \")\n",
    "print (list(res))"
   ]
  },
  {
   "cell_type": "markdown",
   "metadata": {},
   "source": [
    "# Exercise 5.3: Distances\n",
    "Suppose we have two vectors, x and y, stored as tuples with n elements. Implement functions that compute the l1 and l2 distances between x and y. Note that n is not explicitly given."
   ]
  },
  {
   "cell_type": "code",
   "execution_count": 44,
   "metadata": {},
   "outputs": [],
   "source": [
    "a=[9,8,7,6,5,9,8,9,9,0]\n",
    "b=[1,2,3,4,5,6,7,8,9,0]"
   ]
  },
  {
   "cell_type": "code",
   "execution_count": 45,
   "metadata": {},
   "outputs": [
    {
     "name": "stdout",
     "output_type": "stream",
     "text": [
      "8\n",
      "6\n",
      "4\n",
      "2\n",
      "0\n",
      "3\n",
      "1\n",
      "1\n",
      "0\n",
      "0\n"
     ]
    }
   ],
   "source": [
    "# not sure about this coz n is not explicitly given.\n",
    "def distance(a,b):\n",
    "    for i in range(len(a)): # for loop since we donot know how long the n elements in x and y vector\n",
    "        out= a[i]-b[i]\n",
    "        print (out)\n",
    "distance(a,b)"
   ]
  },
  {
   "cell_type": "markdown",
   "metadata": {},
   "source": [
    "# 7 File I/O"
   ]
  },
  {
   "cell_type": "markdown",
   "metadata": {},
   "source": [
    "Exercise 7.1: Open a file\n",
    "Write a function that opens a file (input: filename), and prints the file line by line."
   ]
  },
  {
   "cell_type": "code",
   "execution_count": 5,
   "metadata": {},
   "outputs": [
    {
     "name": "stdout",
     "output_type": "stream",
     "text": [
      "enter name of input file> hi.txt\n",
      "hi how are you?\n",
      "today is good weather\n"
     ]
    }
   ],
   "source": [
    "def openfile():\n",
    "    inFile = input(\"enter name of input file> \")\n",
    "    inf = open(inFile,'r')\n",
    "    aa=inf.read()\n",
    "    print(aa)\n",
    "    \n",
    "openfile()"
   ]
  },
  {
   "cell_type": "markdown",
   "metadata": {},
   "source": [
    "Exercise 7.2: Wordcount\n",
    "On the course website you can find a text file containing the complete works of William Shapespeare. (a) Find the 20 most common words\n",
    "(b) How many unique words are used?\n",
    "(c) How many words are used at least 5 times?\n",
    "(d) Write the 200 most common words, and their counts, to a file."
   ]
  },
  {
   "cell_type": "code",
   "execution_count": 49,
   "metadata": {},
   "outputs": [
    {
     "name": "stderr",
     "output_type": "stream",
     "text": [
      "IOPub data rate exceeded.\n",
      "The notebook server will temporarily stop sending output\n",
      "to the client in order to avoid crashing it.\n",
      "To change this limit, set the config variable\n",
      "`--NotebookApp.iopub_data_rate_limit`.\n",
      "\n",
      "Current values:\n",
      "NotebookApp.iopub_data_rate_limit=1000000.0 (bytes/sec)\n",
      "NotebookApp.rate_limit_window=3.0 (secs)\n",
      "\n"
     ]
    }
   ],
   "source": [
    "def openfile():\n",
    "    infile = open('shakespeare.txt','r' )\n",
    "    aa=infile.read()\n",
    "    print(aa)\n",
    "    \n",
    "openfile()"
   ]
  },
  {
   "cell_type": "code",
   "execution_count": 4,
   "metadata": {},
   "outputs": [
    {
     "name": "stdout",
     "output_type": "stream",
     "text": [
      "[('the', 27730), ('and', 26099), ('i', 19540), ('to', 18762), ('of', 18126), ('a', 14436), ('my', 12456), ('in', 10730), ('you', 10696), ('that', 10501), ('is', 9168), ('for', 8000), ('with', 7981), ('not', 7663), ('your', 6878), ('his', 6749), ('be', 6716), ('this', 5930), ('as', 5893), ('but', 5891)]\n"
     ]
    }
   ],
   "source": [
    "#a) Find the 20 most common word\n",
    "from collections import Counter # importing the library\n",
    "with open('shakespeare.txt') as find:\n",
    "    count = Counter(find.read().lower().strip().split()) #build a counter from each word in the file and change into to lowe and split them \n",
    "\n",
    "print(count.most_common(20))"
   ]
  },
  {
   "cell_type": "code",
   "execution_count": 7,
   "metadata": {},
   "outputs": [
    {
     "data": {
      "text/plain": [
       "[('the', 27730),\n",
       " ('and', 26099),\n",
       " ('i', 19540),\n",
       " ('to', 18762),\n",
       " ('of', 18126),\n",
       " ('a', 14436),\n",
       " ('my', 12456),\n",
       " ('in', 10730),\n",
       " ('you', 10696),\n",
       " ('that', 10501),\n",
       " ('is', 9168),\n",
       " ('for', 8000),\n",
       " ('with', 7981),\n",
       " ('not', 7663),\n",
       " ('your', 6878),\n",
       " ('his', 6749),\n",
       " ('be', 6716),\n",
       " ('this', 5930),\n",
       " ('as', 5893),\n",
       " ('but', 5891)]"
      ]
     },
     "execution_count": 7,
     "metadata": {},
     "output_type": "execute_result"
    }
   ],
   "source": [
    "#version 2 \n",
    "words = open('shakespeare.txt').read().lower().split()\n",
    "from collections import Counter\n",
    "count = Counter(words)\n",
    "count.most_common(20)"
   ]
  },
  {
   "cell_type": "code",
   "execution_count": 35,
   "metadata": {},
   "outputs": [
    {
     "name": "stdout",
     "output_type": "stream",
     "text": [
      "Unique numbers in the file shakespeare.txt =   59722\n"
     ]
    }
   ],
   "source": [
    "#(b)How many unique words are used?\n",
    "words = open('shakespeare.txt').read().lower().split()\n",
    "name=[] # creating vector\n",
    "unique = [] # creating vector\n",
    "for i in words: # for loop to run through each word\n",
    "    name.append(i)# append to add the word in the end \n",
    "for j in name:\n",
    "    if j not in unique: #if it is not unique then add in the end and count the words wih the count loop \n",
    "        unique.append(j)\n",
    "count= 0\n",
    "for k in unique:\n",
    "    count= count+1 # here it count all the unique words \n",
    "print(\"Unique numbers in the file shakespeare.txt =  \", count)"
   ]
  },
  {
   "cell_type": "code",
   "execution_count": 17,
   "metadata": {},
   "outputs": [
    {
     "name": "stdout",
     "output_type": "stream",
     "text": [
      "59722\n"
     ]
    }
   ],
   "source": [
    "#version2 with function & with set() function\n",
    "def unique_words(filename):\n",
    "    wordSet = set()\n",
    "    with open(filename, 'r') as f:\n",
    "        for line in f:\n",
    "            for word in line.lower().split():\n",
    "                wordSet.add(word)\n",
    "    f.close()\n",
    "    print(len(wordSet))\n",
    "unique_words(\"shakespeare.txt\")"
   ]
  },
  {
   "cell_type": "code",
   "execution_count": 75,
   "metadata": {},
   "outputs": [
    {
     "name": "stdout",
     "output_type": "stream",
     "text": [
      "At least 5 numbers words in the file shakespeare.txt are 13050\n"
     ]
    }
   ],
   "source": [
    "#(c) How many words are used at least 5 times?\n",
    "file= open('shakespeare.txt').read().lower().split()\n",
    "counter={} #dictionary of the counter \n",
    "for word in file:\n",
    "    if word in counter: #condition to check the words with counter \n",
    "        counter[word]=counter[word]+1 # count the words if it is exist \n",
    "    else: #else the count is 1 \n",
    "        counter[word]=1 \n",
    "atleast=[word1 for word1 in counter.values() if word1>=5] # this check is the word has atleast 5 numbers \n",
    "print(\"At least 5 numbers words in the file shakespeare.txt are\" , len (atleast)) #print the words with which has atleast 5 numbers "
   ]
  },
  {
   "cell_type": "code",
   "execution_count": 33,
   "metadata": {},
   "outputs": [],
   "source": [
    "#(d)Write the 200 most common words, and their counts, to a file.\n",
    "with open('shakespeare.txt') as find:\n",
    "    count = Counter(find.read().lower().strip().split()) #build a counter from each word in the file and change into to lowe and split them \n",
    "output= counter.most_common(200)\n",
    "output\n",
    "\n",
    "with open('7partd.txt', 'w') as out: # making a file called 7partd.txt to print the all 200 words with frequenies\n",
    "    out.write(str(output))"
   ]
  },
  {
   "cell_type": "markdown",
   "metadata": {},
   "source": [
    "Exercise 7.4: Sum of lists\n",
    "Before you start coding, please read the entire problem.\n",
    "(a) Data generation\n",
    "Write a function that takes three integers, n, a and b and a filename and writes to the file a list\n",
    "with n random integers between a and b.\n",
    "(b) Reading the data\n",
    "Write a function that can read the files as generated above and return the values.\n"
   ]
  },
  {
   "cell_type": "code",
   "execution_count": 79,
   "metadata": {},
   "outputs": [],
   "source": [
    "#(a) Data generation\n",
    "#Write a function that takes three integers, n, a and b and a filename and writes to the file a list with n random integers between a and b.\n",
    "import random \n",
    "def generate_data(n, a, b, filename): #n will take how many numbers you wanna print and a will where to start, b will where to end, filename take file we want to create \n",
    "    random_list = [] #making a vector to store int later \n",
    "    with open(filename, 'w') as w: #open the file to write in it where w means write\n",
    "        while (n>0): # while loop to run when n is greater\n",
    "            if (b > a): \n",
    "                randNumber = random.randint(a, b) # this will where to start and where to end like start from a and end with b \n",
    "                random_list.append(randNumber) # this will just add the number in the end. \n",
    "            elif (a > b): \n",
    "                randNumber = random.randint(b, a)\n",
    "                random_list.append(randNumber)\n",
    "            n = n - 1 # in each run 1 will minus from n number \n",
    "        w.write(str(random_list)) # write it in the file as a string\n",
    "    w.close() #close the file \n",
    "\n",
    "generate_data(10, 1, 100, \"question7.4.txt\")\n"
   ]
  },
  {
   "cell_type": "code",
   "execution_count": 82,
   "metadata": {},
   "outputs": [
    {
     "name": "stdout",
     "output_type": "stream",
     "text": [
      "[62, 80, 13, 43, 28, 9, 48, 1, 2, 17]\n"
     ]
    }
   ],
   "source": [
    "#(b) Reading the data\n",
    "#Write a function that can read the files as generated above and return the values.\n",
    "\n",
    "def readfile(filename):\n",
    "    infile = open(filename,'r' ) #open the file to read where r means read\n",
    "    read_all=infile.read() # this is reading and put all values in read_all\n",
    "    print(read_all) #here we print all the values\n",
    "    \n",
    "readfile(\"question7.4.txt\")"
   ]
  },
  {
   "cell_type": "markdown",
   "metadata": {},
   "source": [
    "# book Exercise question"
   ]
  },
  {
   "cell_type": "markdown",
   "metadata": {},
   "source": [
    "# Chapter 5"
   ]
  },
  {
   "cell_type": "markdown",
   "metadata": {},
   "source": [
    "5.12 Implement function test() that takes as input one integer and prints 'Negative',\n",
    "'Zero', or 'Positive' depending on its value.\n",
    ">>> test(-3) Negative\n",
    ">>> test(0) Zero\n",
    ">>> test(3)\n",
    "   Positive"
   ]
  },
  {
   "cell_type": "code",
   "execution_count": 94,
   "metadata": {},
   "outputs": [
    {
     "name": "stdout",
     "output_type": "stream",
     "text": [
      "Negative\n"
     ]
    }
   ],
   "source": [
    "def test(number):\n",
    "    if number<0: # this will print negative is user put -value \n",
    "        print(\"Negative\")\n",
    "    elif number==0: # this will print zero is user put 0 \n",
    "        print(\"Zero\")\n",
    "    else: # this will print positive is user put anything\n",
    "        print(\"Positive\")\n",
    "test(-10)"
   ]
  },
  {
   "cell_type": "code",
   "execution_count": 95,
   "metadata": {},
   "outputs": [
    {
     "name": "stdout",
     "output_type": "stream",
     "text": [
      "Negative\n"
     ]
    }
   ],
   "source": [
    "test(-3)"
   ]
  },
  {
   "cell_type": "code",
   "execution_count": 96,
   "metadata": {},
   "outputs": [
    {
     "name": "stdout",
     "output_type": "stream",
     "text": [
      "Zero\n"
     ]
    }
   ],
   "source": [
    "test(0)"
   ]
  },
  {
   "cell_type": "code",
   "execution_count": 97,
   "metadata": {},
   "outputs": [
    {
     "name": "stdout",
     "output_type": "stream",
     "text": [
      "Positive\n"
     ]
    }
   ],
   "source": [
    "test(3)"
   ]
  },
  {
   "cell_type": "markdown",
   "metadata": {},
   "source": [
    "5.14 Write function mult3() that takes as input a list of integers and prints only the mul-\n",
    "tiples of 3, one per line.\n",
    ">>> mult3([3, 1, 6, 2, 3, 9, 7, 9, 5, 4, 5])\n",
    "3\n",
    "6\n",
    "3\n",
    "9 \n",
    "9"
   ]
  },
  {
   "cell_type": "code",
   "execution_count": 98,
   "metadata": {},
   "outputs": [
    {
     "name": "stdout",
     "output_type": "stream",
     "text": [
      "3\n",
      "6\n",
      "3\n",
      "9\n",
      "9\n"
     ]
    }
   ],
   "source": [
    "\n",
    "def mult3(list):\n",
    "    for number in list: #  for loop to go from beginning to end \n",
    "        if (number%3==0): # check if number goes to 3\n",
    "            print(number) \n",
    "mult3([3, 1, 6, 2, 3, 9, 7, 9, 5, 4, 5])"
   ]
  },
  {
   "cell_type": "markdown",
   "metadata": {},
   "source": [
    "5.16 Implement function indexes() that takes as input a word (as a string) and a one- character letter (as a string) and returns a list of indexes at which the letter occurs in the word.\n",
    ">>> indexes('mississippi', 's') \n",
    "[2, 3, 5, 6]\n",
    ">>> indexes('mississippi', 'i') \n",
    "[1, 4, 7, 10]\n",
    ">>> indexes('mississippi', 'a') \n",
    "[]"
   ]
  },
  {
   "cell_type": "code",
   "execution_count": 100,
   "metadata": {},
   "outputs": [
    {
     "data": {
      "text/plain": [
       "[2, 3, 5, 6]"
      ]
     },
     "execution_count": 100,
     "metadata": {},
     "output_type": "execute_result"
    }
   ],
   "source": [
    "def indexes(string, character):\n",
    "    listt=[] # making a vector for check each character\n",
    "    for index, i in enumerate(string): #enumerate() method works as a adds a counter each run \n",
    "            if i== character: # this check which character is same as user put in char\n",
    "                    listt.append(index) #this just add the number in the end \n",
    "    return listt\n",
    "indexes('mississippi', 's')   "
   ]
  },
  {
   "cell_type": "code",
   "execution_count": 13,
   "metadata": {},
   "outputs": [
    {
     "data": {
      "text/plain": [
       "[1, 4, 7, 10]"
      ]
     },
     "execution_count": 13,
     "metadata": {},
     "output_type": "execute_result"
    }
   ],
   "source": [
    "indexes('mississippi', 'i')  "
   ]
  },
  {
   "cell_type": "code",
   "execution_count": 14,
   "metadata": {},
   "outputs": [
    {
     "data": {
      "text/plain": [
       "[]"
      ]
     },
     "execution_count": 14,
     "metadata": {},
     "output_type": "execute_result"
    }
   ],
   "source": [
    "indexes('mississippi', 'a')  #because there is no a in the string mississippi"
   ]
  },
  {
   "cell_type": "markdown",
   "metadata": {},
   "source": [
    "5.18 Implement function four_letter() that takes as input a list of words (i.e., strings) and returns the sublist of all four letter words in the list.\n",
    ">>> four_letter(['dog', 'letter', 'stop', 'door', 'bus', 'dust']) ['stop', 'door', 'dust']"
   ]
  },
  {
   "cell_type": "code",
   "execution_count": 103,
   "metadata": {},
   "outputs": [
    {
     "data": {
      "text/plain": [
       "['stop', 'door', 'dust']"
      ]
     },
     "execution_count": 103,
     "metadata": {},
     "output_type": "execute_result"
    }
   ],
   "source": [
    "def four_letter(list_of_words):\n",
    "    a=[] # making a vector \n",
    "    for word in list_of_words: # run for loop for each words\n",
    "        if len(word)==4: # this check if the sting list have 4 words\n",
    "            a.append(word) # attach/add in the end\n",
    "    return a\n",
    "four_letter(['dog', 'letter', 'stop', 'door', 'bus', 'dust'])"
   ]
  },
  {
   "cell_type": "code",
   "execution_count": 104,
   "metadata": {},
   "outputs": [
    {
     "data": {
      "text/plain": [
       "['stop', 'door', 'bust', 'dust', 'lust', 'cust']"
      ]
     },
     "execution_count": 104,
     "metadata": {},
     "output_type": "execute_result"
    }
   ],
   "source": [
    "four_letter(['dog', 'letter', 'stop', 'door', 'bust', 'dust', 'lust', 'cust'])"
   ]
  },
  {
   "cell_type": "markdown",
   "metadata": {},
   "source": [
    "5.20 Write a function intersect() that takes two lists, each containing no duplicate values, and returns a list containing values that are present in both lists (i.e., the intersection of the two input lists).\n",
    "\n",
    ">>> intersect([3, 5, 1, 7, 9], [4, 2, 6, 3, 9])\n",
    "[3, 9]"
   ]
  },
  {
   "cell_type": "code",
   "execution_count": 106,
   "metadata": {},
   "outputs": [
    {
     "data": {
      "text/plain": [
       "[3, 9]"
      ]
     },
     "execution_count": 106,
     "metadata": {},
     "output_type": "execute_result"
    }
   ],
   "source": [
    "def intersect(list1,list2):\n",
    "    b=[] # making b vector \n",
    "    for list_1_number in list1: # this will run the list 1\n",
    "        for list_2_number in list2: # this will run the list 2\n",
    "            if list_1_number==list_2_number: #this check list1 vector with list2 vector and then return the vector\n",
    "                b.append(list_1_number) # this just add the vector in the end\n",
    "    return b\n",
    "intersect([3, 5, 1, 7, 9], [4, 2, 6, 3, 9])\n",
    "        "
   ]
  },
  {
   "cell_type": "code",
   "execution_count": 108,
   "metadata": {},
   "outputs": [
    {
     "data": {
      "text/plain": [
       "[1, 2, 3, 4]"
      ]
     },
     "execution_count": 108,
     "metadata": {},
     "output_type": "execute_result"
    }
   ],
   "source": [
    "intersect([1, 2, 3, 4, 5], [4, 3, 2, 1, 0])"
   ]
  },
  {
   "cell_type": "markdown",
   "metadata": {},
   "source": [
    "5.22 Implement the function pairSum() that takes as input a list of distinct integers lst and an integer n, and prints the indexes of all pairs of values in lst that sum up to n.\n",
    ">>> pairSum([7, 8, 5, 3, 4, 6], 11) \n",
    "0 4\n",
    "1 3\n",
    "2 5"
   ]
  },
  {
   "cell_type": "code",
   "execution_count": 112,
   "metadata": {},
   "outputs": [
    {
     "name": "stdout",
     "output_type": "stream",
     "text": [
      "0 4\n",
      "1 3\n",
      "2 5\n"
     ]
    }
   ],
   "source": [
    "def pairSum(lst,n):\n",
    "    for a in range(0,len(lst)): # this will run from 0 to lst which is input by user\n",
    "        for b in range(a+1,len(lst)): # this will run from lst +1 and end with the length of user lst\n",
    "            if lst[a]+lst[b]==n:# this add  list i and list k and check if it is equal to 11 \n",
    "                print(a,b)  \n",
    "pairSum([7, 8, 5, 3, 4, 6], 11)\n",
    "    "
   ]
  },
  {
   "cell_type": "markdown",
   "metadata": {},
   "source": [
    "5.24 Write function case() that takes a string as input and returns 'capitalized', 'not capitalized', or 'unknown', depending on whether the string starts with an uppercase letter, lowercase letter, or something other than a letter in the English alphabet, respectively.\n",
    ">>> case('Android') 'capitalized'\n",
    ">>> case('3M') 'unknown'"
   ]
  },
  {
   "cell_type": "code",
   "execution_count": 20,
   "metadata": {},
   "outputs": [
    {
     "data": {
      "text/plain": [
       "'capitalized'"
      ]
     },
     "execution_count": 20,
     "metadata": {},
     "output_type": "execute_result"
    }
   ],
   "source": [
    "def case(strr):\n",
    "    \n",
    "    if strr[0]>=\"a\":\n",
    "        return \"not capitalized\"\n",
    "    \n",
    "    if strr[0]>=\"A\":\n",
    "        return \"capitalized\"\n",
    "    \n",
    "    else:\n",
    "        return\"unknown\"\n",
    "\n",
    "case('Android')\n"
   ]
  },
  {
   "cell_type": "code",
   "execution_count": 21,
   "metadata": {},
   "outputs": [
    {
     "data": {
      "text/plain": [
       "'unknown'"
      ]
     },
     "execution_count": 21,
     "metadata": {},
     "output_type": "execute_result"
    }
   ],
   "source": [
    "case('3M')"
   ]
  },
  {
   "cell_type": "code",
   "execution_count": 22,
   "metadata": {},
   "outputs": [
    {
     "data": {
      "text/plain": [
       "'not capitalized'"
      ]
     },
     "execution_count": 22,
     "metadata": {},
     "output_type": "execute_result"
    }
   ],
   "source": [
    "case('cus620')"
   ]
  },
  {
   "cell_type": "code",
   "execution_count": null,
   "metadata": {},
   "outputs": [],
   "source": [
    "#5.26 excluded by professor"
   ]
  },
  {
   "cell_type": "markdown",
   "metadata": {},
   "source": [
    "5.28 Write function geometric() that takes a list of integers as input and returns True if the integers in the list form a geometric sequence. A sequence a0, a1, a2, a3, a4, . . . , an −2, an − 1 is a geometric sequence if the ratios a1/a0, a2/a1, a3/a2, a4/a3, . . . , an−1/an−2 are all equal.\n",
    "   >>> geometric([2, 4, 8, 16, 32, 64, 128, 256])\n",
    "   True\n",
    "   >>> geometric([2, 4, 6, 8])\n",
    "   False"
   ]
  },
  {
   "cell_type": "code",
   "execution_count": 24,
   "metadata": {},
   "outputs": [
    {
     "data": {
      "text/plain": [
       "True"
      ]
     },
     "execution_count": 24,
     "metadata": {},
     "output_type": "execute_result"
    }
   ],
   "source": [
    "def geometric(listt):\n",
    "    half= listt[1]/listt[0] #we divide the next vector of list with the vector of first and store in variable\n",
    "    for i in range(1,len(listt)): #for loop which start from 1 to length of the list\n",
    "        if listt[i]/listt[i-1] !=half: #we check if the list vector of i divide with list vector of i-1 is not equal of the variable we made then it is false else it is true\n",
    "            return False\n",
    "    if len(listt)<2: #this check the if length of list is less than 1 than retutn true\n",
    "        return True\n",
    "    return True\n",
    "\n",
    "\n",
    "geometric([2, 4, 8, 16, 32, 64, 128, 256])"
   ]
  },
  {
   "cell_type": "code",
   "execution_count": 25,
   "metadata": {},
   "outputs": [
    {
     "data": {
      "text/plain": [
       "False"
      ]
     },
     "execution_count": 25,
     "metadata": {},
     "output_type": "execute_result"
    }
   ],
   "source": [
    "geometric([2, 4, 6, 8])"
   ]
  },
  {
   "cell_type": "markdown",
   "metadata": {},
   "source": [
    "5.30 Develop the function many() that takes as input the name of a file in the current directory (as a string) and outputs the number of words of length 1, 2, 3, and 4. Test your function on file sample.txt.\n",
    ">>> many('sample.txt') \n",
    "Words of length 1 : 2 \n",
    "Words of length 2 : 5 \n",
    "Words of length 3 : 1 \n",
    "Words of length 4 : 10"
   ]
  },
  {
   "cell_type": "code",
   "execution_count": 15,
   "metadata": {},
   "outputs": [
    {
     "data": {
      "text/plain": [
       "{2: 3, 3: 9, 4: 10, 1: 3}"
      ]
     },
     "execution_count": 15,
     "metadata": {},
     "output_type": "execute_result"
    }
   ],
   "source": [
    "def many(filename):\n",
    "    w_dict=dict()# dictionary of counters assigning as a varriable \n",
    "    with open(filename)as f:\n",
    "        for line in f.readlines(): #readlines() read all lines in the file, as a list\n",
    "            for word in line.split(): # split text into list of words\n",
    "                word_len=len(word) # checj the length of word\n",
    "                if word_len<=4: # condition where the word length is less than or equal to 4 \n",
    "                    w_dict[word_len]=w_dict.get(word_len, 0)+ 1\n",
    "                    \n",
    "    return w_dict\n",
    "\n",
    "many('sample.txt')"
   ]
  },
  {
   "cell_type": "code",
   "execution_count": 138,
   "metadata": {},
   "outputs": [
    {
     "name": "stdout",
     "output_type": "stream",
     "text": [
      "Words of length hi : 1 \n",
      "Words of length there : 1 \n",
      "Words of length how : 1 \n",
      "Words of length are : 2 \n",
      "Words of length you : 4 \n",
      "Words of length what : 1 \n",
      "Words of length upto : 1 \n",
      "Words of length today : 2 \n",
      "Words of length thanks : 1 \n",
      "Words of length the : 2 \n",
      "Words of length best : 1 \n",
      "Words of length person : 1 \n",
      "Words of length i : 3 \n",
      "Words of length have : 1 \n",
      "Words of length ever : 1 \n",
      "Words of length seen : 1 \n",
      "Words of length is : 2 \n",
      "Words of length good : 1 \n",
      "Words of length weather : 1 \n",
      "Words of length like : 2 \n",
      "Words of length python : 2 \n",
      "Words of length life : 1 \n"
     ]
    }
   ],
   "source": [
    "# professor code given for practice \n",
    "def wordCount(text): \n",
    "    wordList = text.split()  # split text into list of words\n",
    "    counters ={}             # dictionary of counters\n",
    "    for word in wordList:   \n",
    "        if word in counters: # counter for word exists\n",
    "            counters[word] += 1\n",
    "        else:                # counter for word doesn't exist\n",
    "            counters[word] = 1\n",
    "    for word in counters:    # print word counts\n",
    "        if counters[word] == 1:\n",
    "            print('Words of length {} : {} '.format(word, counters[word]))\n",
    "        else:\n",
    "            print('Words of length {} : {} '.format(word, counters[word]))\n",
    "text = open('sample.txt').read()\n",
    "wordCount(text)"
   ]
  },
  {
   "cell_type": "markdown",
   "metadata": {},
   "source": [
    "5.32 Implement function fib() that takes a nonnegative integer n as input and returns the nth Fibonacci number.\n",
    "   >>> fib(0)\n",
    "   1\n",
    "   >>> fib(4)\n",
    "   5\n",
    ">>> fib(8) \n",
    "34"
   ]
  },
  {
   "cell_type": "code",
   "execution_count": 5,
   "metadata": {},
   "outputs": [
    {
     "data": {
      "text/plain": [
       "1"
      ]
     },
     "execution_count": 5,
     "metadata": {},
     "output_type": "execute_result"
    }
   ],
   "source": [
    "def fib(number):\n",
    "    if number<2: #we know if n<2 which has no more fibonacci so it return 1 \n",
    "        return 1\n",
    "    else:\n",
    "        answer= fib(number-1)+fib(number-2) #we minus 1 and then minus from fib(number) then sum both to get Fibonacci\n",
    "        return answer\n",
    "\n",
    "fib(0)"
   ]
  },
  {
   "cell_type": "code",
   "execution_count": 6,
   "metadata": {},
   "outputs": [
    {
     "data": {
      "text/plain": [
       "5"
      ]
     },
     "execution_count": 6,
     "metadata": {},
     "output_type": "execute_result"
    }
   ],
   "source": [
    "fib(4)"
   ]
  },
  {
   "cell_type": "code",
   "execution_count": 7,
   "metadata": {},
   "outputs": [
    {
     "data": {
      "text/plain": [
       "34"
      ]
     },
     "execution_count": 7,
     "metadata": {},
     "output_type": "execute_result"
    }
   ],
   "source": [
    "fib(8)"
   ]
  },
  {
   "cell_type": "markdown",
   "metadata": {},
   "source": [
    "5.34 Write a function statement() that takes as input a list of floating-point numbers, with positive numbers representing deposits to and negative numbers representing withdrawals from a bank account. Your function should return a list of two floating-point numbers; the first will be the sum of the deposits, and the second (a negative number) will be the sum of the withdrawals.\n",
    ">>> statement([30.95, -15.67, 45.56, -55.00, 43.78]) \n",
    "[120.29, -70.67]"
   ]
  },
  {
   "cell_type": "code",
   "execution_count": 36,
   "metadata": {},
   "outputs": [
    {
     "data": {
      "text/plain": [
       "[120.29, -70.67]"
      ]
     },
     "execution_count": 36,
     "metadata": {},
     "output_type": "execute_result"
    }
   ],
   "source": [
    "def statement(list_numbers):\n",
    "    deposit=0\n",
    "    withdrawal = 0\n",
    "    for number in list_numbers:\n",
    "        if number>0:# if the n is bigger than 0; than with for loop we add all the deposits and return deposit \n",
    "            deposit=deposit+number\n",
    "        else:\n",
    "            withdrawal= withdrawal+number # here we add all the withdrawals and return it \n",
    "    return [deposit,withdrawal]\n",
    "\n",
    "statement([30.95, -15.67, 45.56, -55.00, 43.78])"
   ]
  },
  {
   "cell_type": "code",
   "execution_count": null,
   "metadata": {},
   "outputs": [],
   "source": [
    "#5.36  excluded by professor"
   ]
  },
  {
   "cell_type": "markdown",
   "metadata": {},
   "source": [
    "5.38 Write function collatz() that takes a positive integer x as input and prints the Collatz sequence starting at x. A Collatz sequence is obtained by repeatedly applying this rule to the previous number x in the sequence:\n",
    "            x/2 ifxiseven \n",
    "x=        3x+1 ifxisodd.\n",
    "\n",
    "\n",
    "\n",
    "\n",
    "Your function should stop when the sequence gets to number 1. Note: It is an open question whether the Collatz sequence of every positive integer always ends at 1.\n",
    "   >>> collatz(10)\n",
    "   10\n",
    "   5\n",
    "   16\n",
    "8 4 2 1"
   ]
  },
  {
   "cell_type": "code",
   "execution_count": 37,
   "metadata": {},
   "outputs": [
    {
     "name": "stdout",
     "output_type": "stream",
     "text": [
      "10\n",
      "5\n",
      "16\n",
      "8\n",
      "4\n",
      "2\n",
      "1\n"
     ]
    }
   ],
   "source": [
    "def collatz(integer):\n",
    "    print(int(integer)) # first we just print the n as a interger \n",
    "    while integer!=1: # so, with while loop we check if n is not equal to 1 \n",
    "        if integer%2==0: #then we check if it's even and take half of it \n",
    "            integer=integer/2\n",
    "        else: # else we multiply n with 3 and add 1 then print it\n",
    "            integer=3*integer+1\n",
    "        print(int(integer))\n",
    "collatz(10)"
   ]
  },
  {
   "cell_type": "code",
   "execution_count": null,
   "metadata": {},
   "outputs": [],
   "source": []
  }
 ],
 "metadata": {
  "kernelspec": {
   "display_name": "Python 3",
   "language": "python",
   "name": "python3"
  },
  "language_info": {
   "codemirror_mode": {
    "name": "ipython",
    "version": 3
   },
   "file_extension": ".py",
   "mimetype": "text/x-python",
   "name": "python",
   "nbconvert_exporter": "python",
   "pygments_lexer": "ipython3",
   "version": "3.8.3"
  }
 },
 "nbformat": 4,
 "nbformat_minor": 4
}
