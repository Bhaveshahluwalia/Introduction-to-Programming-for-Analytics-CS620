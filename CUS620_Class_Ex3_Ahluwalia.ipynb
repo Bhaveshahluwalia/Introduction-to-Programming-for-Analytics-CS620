{
 "cells": [
  {
   "cell_type": "markdown",
   "metadata": {},
   "source": [
    "# # CUS620, Class Exercise 3\n",
    "## Your full name: Bhavesh Ahluwalia\n",
    "--------------\n",
    "- ### Note1: you can use this temaplet to answer questions such as class Exercise and HWs\n",
    "- ### Note2: chnage the file name respect to type of assignment, for example: CUS620_Class_Ex1_LastName or CUS620_HW1_LastName\n",
    "---------\n",
    "### if you need help on how to write in Jupyter see here: \n",
    "- Jupyter notebook tutorial: [link](https://nbviewer.jupyter.org/github/ipython/ipython/blob/3.x/examples/Notebook/Index.ipynb)\n",
    "- basic: [link](https://docs.github.com/en/github/writing-on-github/basic-writing-and-formatting-syntax)\n",
    "- advance: [link](https://docs.github.com/en/github/writing-on-github/working-with-advanced-formatting)"
   ]
  },
  {
   "cell_type": "markdown",
   "metadata": {},
   "source": [
    "# 4.12 \n",
    "Start by running, in the interactive shell, this assignment statement:\n",
    ">>> s = 'abcdefghijklmnopqrstuvwxyz'\n",
    "Now write expressions using string s and the indexing operator that evaluate to 'bcd', \n",
    "'abc', 'defghijklmnopqrstuvwx', 'wxy', and 'wxyz'."
   ]
  },
  {
   "cell_type": "code",
   "execution_count": 1,
   "metadata": {},
   "outputs": [],
   "source": [
    "s = 'abcdefghijklmnopqrstuvwxyz'"
   ]
  },
  {
   "cell_type": "code",
   "execution_count": 2,
   "metadata": {},
   "outputs": [
    {
     "data": {
      "text/plain": [
       "'bcd'"
      ]
     },
     "execution_count": 2,
     "metadata": {},
     "output_type": "execute_result"
    }
   ],
   "source": [
    "s[1:4]\n"
   ]
  },
  {
   "cell_type": "code",
   "execution_count": 3,
   "metadata": {},
   "outputs": [
    {
     "data": {
      "text/plain": [
       "'abc'"
      ]
     },
     "execution_count": 3,
     "metadata": {},
     "output_type": "execute_result"
    }
   ],
   "source": [
    "s[0:3]\n",
    "\n"
   ]
  },
  {
   "cell_type": "code",
   "execution_count": 4,
   "metadata": {},
   "outputs": [
    {
     "data": {
      "text/plain": [
       "'defghijklmnopqrstuvwx'"
      ]
     },
     "execution_count": 4,
     "metadata": {},
     "output_type": "execute_result"
    }
   ],
   "source": [
    "s[3:24]"
   ]
  },
  {
   "cell_type": "code",
   "execution_count": 5,
   "metadata": {},
   "outputs": [
    {
     "data": {
      "text/plain": [
       "'wxy'"
      ]
     },
     "execution_count": 5,
     "metadata": {},
     "output_type": "execute_result"
    }
   ],
   "source": [
    "s[22:25]\n"
   ]
  },
  {
   "cell_type": "code",
   "execution_count": 6,
   "metadata": {},
   "outputs": [
    {
     "data": {
      "text/plain": [
       "'wxyz'"
      ]
     },
     "execution_count": 6,
     "metadata": {},
     "output_type": "execute_result"
    }
   ],
   "source": [
    "s[22:]"
   ]
  },
  {
   "cell_type": "markdown",
   "metadata": {},
   "source": [
    "# 4.14\n",
    "Translate each part into a Python statement:\n",
    "(a) Assign to variable log the next string, which happens to be a fragment of a log of a request for a text file from a web server:\n",
    "128.0.0.1 - - [12/Feb/2011:10:31:08 -0600] \"GET /docs/test.txt HTTP/1.0\"\n",
    "(b) Assigntovariableaddressthesubstringoflogthatendsbeforethefirstblankspace in log, using the string method split() and the indexing operator.\n",
    "(c) Assign to variable date the splice of string log containing the date (12/Feb ... -6000), using the indexing operator on string log."
   ]
  },
  {
   "cell_type": "code",
   "execution_count": 7,
   "metadata": {},
   "outputs": [
    {
     "name": "stdout",
     "output_type": "stream",
     "text": [
      "128.0.0.1 - - [12/Feb/2011:10:31:08 -0600] \"GET /docs/test.txt HTTP/1.0\"\n"
     ]
    }
   ],
   "source": [
    "#(a) Assign to variable log the next string, which happens to be a fragment of a log of a request for a text file from a web server:\n",
    "# 128.0.0.1 - - [12/Feb/2011:10:31:08 -0600] \"GET /docs/test.txt HTTP/1.0\"\n",
    "log = '128.0.0.1 - - [12/Feb/2011:10:31:08 -0600] \"GET /docs/test.txt HTTP/1.0\"'\n",
    "\n",
    "print(log)"
   ]
  },
  {
   "cell_type": "code",
   "execution_count": 8,
   "metadata": {},
   "outputs": [
    {
     "name": "stdout",
     "output_type": "stream",
     "text": [
      "128.0.0.1\n"
     ]
    }
   ],
   "source": [
    "#(b) Assign to variable address the substring of log that ends before the first blankspace in log, using the string method split() and the indexing operator.\n",
    "address = log.split()[0]\n",
    "\n",
    "print(address)"
   ]
  },
  {
   "cell_type": "code",
   "execution_count": 9,
   "metadata": {},
   "outputs": [
    {
     "name": "stdout",
     "output_type": "stream",
     "text": [
      "12/Feb/2011:10:31:08 -0600\n"
     ]
    }
   ],
   "source": [
    "# (c) Assign to variable date the splice of string log containing the date (12/Feb ... -6000), using the indexing operator on string log.\n",
    "date = log[log.find(\"[\")+1:log.find(\"]\")]\n",
    "\n",
    "print(date)"
   ]
  },
  {
   "cell_type": "markdown",
   "metadata": {},
   "source": [
    "# 4.16\n",
    "Implement a program that requests three words (strings) from the user. Your program should print Boolean value True if the words were entered in dictionary order; otherwise nothing is printed.\n",
    "   >>>\n",
    "   Enter first word: bass\n",
    "   Enter second word: salmon\n",
    "   Enter third word: whitefish\n",
    "   True"
   ]
  },
  {
   "cell_type": "code",
   "execution_count": 10,
   "metadata": {},
   "outputs": [
    {
     "name": "stdout",
     "output_type": "stream",
     "text": [
      "Enter first word: bass\n",
      "Enter second word: salmon\n",
      "Enter third word: whitefish\n",
      "True\n"
     ]
    }
   ],
   "source": [
    "word1 = input(\"Enter first word: \")\n",
    "word2 = input(\"Enter second word: \")\n",
    "word3 = input(\"Enter third word: \")\n",
    "if word1 < word2 and word2 < word3 :\n",
    "    print (True)\n",
    "else:\n",
    "    print(\"sorry\")"
   ]
  },
  {
   "cell_type": "markdown",
   "metadata": {},
   "source": [
    "# 4.18 \n",
    "Suppose variable s has been assigned in this way:\n",
    "s = '''It was the best of times, it was the worst of times; it was the age of wisdom, it was the age of foolishness; it was the epoch of belief, it was the epoch of incredulity; it was ...'''\n",
    "\n",
    "(The beginning of A Tale of Two Cities by Charles Dickens.) Then do the following, in order:\n",
    "(a) Writeasequenceofstatementsthatproduceacopyofs,namednewS,inwhichchar- acters ., ,, ;, and \\n have been replaced by blank spaces.\n",
    "(b) Remove leading and trailing blank spaces in newS (and name the new string newS).\n",
    "(c) Make all the characters in newS lowercase (and name the new string newS).\n",
    "(d) Compute the number of occurrences in newS of string 'it was'.\n",
    "(e) Change every occurrence of was to is (and name the new string newS).\n",
    "(f) Split newS into a list of words and name the list listS."
   ]
  },
  {
   "cell_type": "code",
   "execution_count": 11,
   "metadata": {},
   "outputs": [],
   "source": [
    "s = '''It was the best of times, it was the worst of times; it was the age of wisdom, it was the age of foolishness; it was the epoch of belief, it was the epoch of incredulity; it was ...'''"
   ]
  },
  {
   "cell_type": "code",
   "execution_count": 12,
   "metadata": {},
   "outputs": [
    {
     "name": "stdout",
     "output_type": "stream",
     "text": [
      "It was the best of times  it was the worst of times  it was the age of wisdom  it was the age of foolishness  it was the epoch of belief  it was the epoch of incredulity  it was    \n"
     ]
    }
   ],
   "source": [
    "#(a) Writeasequenceofstatementsthatproduceacopyofs,namednewS,inwhichchar- acters ., ,, ;, and \\n have been replaced by blank spaces.\n",
    "table= str.maketrans(\".,;\\n\" , \"    \")\n",
    "\n",
    "newS=s.translate(table)\n",
    "print(newS)"
   ]
  },
  {
   "cell_type": "markdown",
   "metadata": {},
   "source": [
    "table= str.maketrans(\".,;\\n\" , \"    \") # . will replace by \" \" then , will replace by \" \" etc..\n",
    "\n",
    "newS=s.translate(table)\n",
    "print(newS)\n",
    "\n",
    "#check this to understand https://stackoverflow.com/questions/41535571/how-to-explain-the-str-maketrans-function-in-python-3-6#:~:text=answer%20was%20accepted%E2%80%A6-,str.,characters%20in%20the%20output%20string."
   ]
  },
  {
   "cell_type": "code",
   "execution_count": 13,
   "metadata": {},
   "outputs": [
    {
     "name": "stdout",
     "output_type": "stream",
     "text": [
      "It was the best of times  it was the worst of times  it was the age of wisdom  it was the age of foolishness  it was the epoch of belief  it was the epoch of incredulity  it was\n"
     ]
    }
   ],
   "source": [
    "#(b) Remove leading and trailing blank spaces in newS (and name the new string newS).\n",
    "newS=newS.strip() #Python String strip() function will remove leading and trailing whitespaces.\n",
    "\n",
    "print(newS)"
   ]
  },
  {
   "cell_type": "code",
   "execution_count": 14,
   "metadata": {},
   "outputs": [
    {
     "name": "stdout",
     "output_type": "stream",
     "text": [
      "it was the best of times  it was the worst of times  it was the age of wisdom  it was the age of foolishness  it was the epoch of belief  it was the epoch of incredulity  it was\n"
     ]
    }
   ],
   "source": [
    "#(c) Make all the characters in newS lowercase (and name the new string newS).\n",
    "newS=newS.lower() #Python String .lower() function will make all characters in lower case.\n",
    "\n",
    "print(newS)"
   ]
  },
  {
   "cell_type": "code",
   "execution_count": 15,
   "metadata": {},
   "outputs": [
    {
     "name": "stdout",
     "output_type": "stream",
     "text": [
      "7\n"
     ]
    }
   ],
   "source": [
    "#(d) Compute the number of occurrences in newS of string 'it was'.\n",
    "new=newS.count('it was') #Python String .count() function will count all characters.\n",
    "\n",
    "print(new)"
   ]
  },
  {
   "cell_type": "code",
   "execution_count": 16,
   "metadata": {},
   "outputs": [
    {
     "name": "stdout",
     "output_type": "stream",
     "text": [
      "it is the best of times  it is the worst of times  it is the age of wisdom  it is the age of foolishness  it is the epoch of belief  it is the epoch of incredulity  it is\n"
     ]
    }
   ],
   "source": [
    "#(e) Change every occurrence of was to is (and name the new string newS).\n",
    "newS = newS.replace(\"was\", \"is\") # this replace all the was into is\n",
    "\n",
    "print(newS)\n"
   ]
  },
  {
   "cell_type": "code",
   "execution_count": 17,
   "metadata": {},
   "outputs": [
    {
     "name": "stdout",
     "output_type": "stream",
     "text": [
      "['it', 'is', 'the', 'best', 'of', 'times', 'it', 'is', 'the', 'worst', 'of', 'times', 'it', 'is', 'the', 'age', 'of', 'wisdom', 'it', 'is', 'the', 'age', 'of', 'foolishness', 'it', 'is', 'the', 'epoch', 'of', 'belief', 'it', 'is', 'the', 'epoch', 'of', 'incredulity', 'it', 'is']\n"
     ]
    }
   ],
   "source": [
    "# (f) Split newS into a list of words and name the list listS.\n",
    "newS=newS.split()\n",
    "\n",
    "print(newS)"
   ]
  },
  {
   "cell_type": "markdown",
   "metadata": {},
   "source": [
    "\n",
    "\n",
    "# 4.20\n",
    "Given string values for the sender, recipient, and subject of an email, write a string format expression that uses variables sender, recipient, and subject and that prints as shown here:\n",
    ">>> sender = 'tim@abc.com' >>> recipient = 'tom@xyz.org' >>> subject = 'Hello!'\n",
    ">>> print(???)         # fill in\n",
    "From: tim@abc.com\n",
    "To: tom@xyz.org\n",
    "Subject: Hello!\n"
   ]
  },
  {
   "cell_type": "code",
   "execution_count": 18,
   "metadata": {},
   "outputs": [
    {
     "name": "stdout",
     "output_type": "stream",
     "text": [
      "From: tim@abc.com\n",
      "To: tom@xyz.org\n",
      "Subject: Hello! \n"
     ]
    }
   ],
   "source": [
    "sender = 'tim@abc.com'\n",
    "recipient = 'tom@xyz.org'\n",
    "subject = 'Hello!'\n",
    "print(\"From: \" + sender + \"\\nTo: \" + recipient + \"\\nSubject: \"+ subject +\" \") "
   ]
  },
  {
   "cell_type": "markdown",
   "metadata": {},
   "source": [
    "# 4.22 \n",
    "Write a function month() that takes a number between 1 and 12 as input and returns the three-character abbreviation of the corresponding month. Do this without using an if statement, just string operations. Hint: Use a string to store the abbreviations in order.\n",
    ">>> month(1)\n",
    "'Jan'\n",
    "   >>> month(11)\n",
    "'Nov'\n"
   ]
  },
  {
   "cell_type": "code",
   "execution_count": 19,
   "metadata": {},
   "outputs": [
    {
     "data": {
      "text/plain": [
       "'Jan'"
      ]
     },
     "execution_count": 19,
     "metadata": {},
     "output_type": "execute_result"
    }
   ],
   "source": [
    "def month(n):\n",
    "    temp = \"JanFebMarAprMayJunJulAugSepOctNovDec\"\n",
    "    return temp[(n-1)*3:n*3]\n",
    "\n",
    "month(1)\n"
   ]
  },
  {
   "cell_type": "markdown",
   "metadata": {},
   "source": [
    "# 4.24 \n",
    "Implement function cheer() that takes as input a team name (as a string) and prints a cheer as shown:\n",
    ">>> cheer('Huskies')\n",
    "How do you spell winner?\n",
    "I know, I know!\n",
    "HUSKIES!\n",
    "And that's how you spell winner! Go Huskies!\n"
   ]
  },
  {
   "cell_type": "code",
   "execution_count": 20,
   "metadata": {},
   "outputs": [
    {
     "name": "stdout",
     "output_type": "stream",
     "text": [
      "How do you spell winner?\n",
      "I know, I know!\n",
      "H U S K I E S !\n",
      "And that 's how you spell winner!\n",
      "Go Huskies!\n"
     ]
    }
   ],
   "source": [
    "def cheers(name):\n",
    "    print(\"How do you spell winner?\")\n",
    "    print(\"I know, I know!\")\n",
    "    for a in name:\n",
    "        print(a.upper(),end=\" \")\n",
    "    print(\"!\")\n",
    "    print(\"And that 's how you spell winner!\")\n",
    "    print(\"Go \"+name+\"!\")\n",
    "\n",
    "cheers('Huskies')"
   ]
  },
  {
   "cell_type": "markdown",
   "metadata": {},
   "source": [
    "\n",
    "# 4.26 \n",
    "The cryptography function crypto() takes as input a string (i.e., the name of a file in the current directory). The function should print the file on the screen with this modification: Every occurrence of string 'secret' in the file should be replaced with string 'xxxxxx'.\n",
    ">>> crypto('crypto.txt')\n",
    "I will tell you my xxxxxx. But first, I have to explain why it is a xxxxxx.\n",
    "And that is all I will tell you about my xxxxxx."
   ]
  },
  {
   "cell_type": "code",
   "execution_count": 21,
   "metadata": {},
   "outputs": [
    {
     "name": "stdout",
     "output_type": "stream",
     "text": [
      "I will tell you my xxxxxx. But first, I have to explain\n",
      "why it is a xxxxxx.\n",
      "\n",
      "And that is all I will tell you about my xxxxxx.\n",
      "\n"
     ]
    }
   ],
   "source": [
    "def crypto(filename):\n",
    "    infile = open(filename,\"r\")\n",
    "    text = infile.read()\n",
    "    text = text.replace(\"secret\",\"xxxxxx\")\n",
    "    print(text)\n",
    "    \n",
    "crypto('crypto.txt')"
   ]
  },
  {
   "cell_type": "markdown",
   "metadata": {},
   "source": [
    "# 4 Lists\n"
   ]
  },
  {
   "cell_type": "markdown",
   "metadata": {},
   "source": [
    "# Exercise 4.1: Short questions\n",
    "(a) Write a function that prints the elements of a list\n",
    "(b) Write a function that prints the elements of a list in reverse\n",
    "(c) Write your own implementation of the len function that returns the number of elements in a list."
   ]
  },
  {
   "cell_type": "code",
   "execution_count": 63,
   "metadata": {},
   "outputs": [
    {
     "name": "stdout",
     "output_type": "stream",
     "text": [
      "Stjohns\n",
      "Humber\n",
      "Queens\n",
      "NYU\n",
      "Adelphi\n",
      "farmdale\n"
     ]
    }
   ],
   "source": [
    "#(a) Write a function that prints the elements of a list\n",
    "ver= ['Stjohns','Humber','Queens','NYU','Adelphi','farmdale']\n",
    "def low(a) : \n",
    "    for i in a:\n",
    "        print(i)\n",
    "\n",
    "low(ver)"
   ]
  },
  {
   "cell_type": "code",
   "execution_count": 7,
   "metadata": {},
   "outputs": [
    {
     "data": {
      "text/plain": [
       "['farmdale', 'Adelphi', 'NYU', 'Queens', 'Humber', 'Stjohns']"
      ]
     },
     "execution_count": 7,
     "metadata": {},
     "output_type": "execute_result"
    }
   ],
   "source": [
    "#(b) Write a function that prints the elements of a list in reverse\n",
    "ver= ['Stjohns','Humber','Queens','NYU','Adelphi','farmdale']\n",
    "def reverselist(b) :\n",
    "        return ver[::-1]\n",
    "\n",
    "reverselist(ver)"
   ]
  },
  {
   "cell_type": "code",
   "execution_count": 80,
   "metadata": {},
   "outputs": [
    {
     "name": "stdout",
     "output_type": "stream",
     "text": [
      "17\n"
     ]
    }
   ],
   "source": [
    "#(c) Write your own implementation of the len function that returns the number of elements in a list.\n",
    "def Len(name):  \n",
    "    count = 0\n",
    "    for i in name: \n",
    "        count=count+ 1\n",
    "    return count \n",
    "name = \"Bhavesh Ahluwalia\"\n",
    "print(Len(name))"
   ]
  },
  {
   "cell_type": "markdown",
   "metadata": {},
   "source": [
    "# Exercise 4.2: Copying lists\n",
    "(a) Create a list a with some entries.\n",
    "(b) Nowsetb= a \n",
    "(c) Change b[1]\n",
    "(d) What happened to a? \n",
    "(e) Now set c = a[:]\n",
    "(f) Change c[2]\n",
    "(g) What happened to a?\n",
    "Now create a function set_first_elem_to_zero(l) that takes a list, sets its first entry to zero, and returns the list.\n",
    "What happens to the original list?\n"
   ]
  },
  {
   "cell_type": "code",
   "execution_count": 66,
   "metadata": {},
   "outputs": [],
   "source": [
    "#(a) Create a list a with some entries.\n",
    "a=['aaa','bbb','ccc','d']"
   ]
  },
  {
   "cell_type": "code",
   "execution_count": 26,
   "metadata": {},
   "outputs": [],
   "source": [
    "#(b) Nowsetb= a \n",
    "b=a\n"
   ]
  },
  {
   "cell_type": "code",
   "execution_count": 27,
   "metadata": {},
   "outputs": [
    {
     "name": "stdout",
     "output_type": "stream",
     "text": [
      "bbb\n",
      "hello\n"
     ]
    }
   ],
   "source": [
    "#(c) Change b[1]\n",
    "print(b[1]) # before changing\n",
    "b[1]='hello'\n",
    "print(b[1]) #after changing"
   ]
  },
  {
   "cell_type": "code",
   "execution_count": 28,
   "metadata": {},
   "outputs": [
    {
     "name": "stdout",
     "output_type": "stream",
     "text": [
      "['aaa', 'hello', 'ccc', 'd']\n"
     ]
    }
   ],
   "source": [
    "#(d) What happened to a? \n",
    "print(a)\n",
    "# a[1] value changes to hello because we called a with b if we changed b. a will also changed with it. "
   ]
  },
  {
   "cell_type": "code",
   "execution_count": 29,
   "metadata": {},
   "outputs": [
    {
     "name": "stdout",
     "output_type": "stream",
     "text": [
      "['aaa', 'hello', 'ccc', 'd']\n"
     ]
    }
   ],
   "source": [
    "#(e) Now set c = a[:]\n",
    "c=a[:]\n",
    "print(c)"
   ]
  },
  {
   "cell_type": "code",
   "execution_count": 30,
   "metadata": {},
   "outputs": [
    {
     "name": "stdout",
     "output_type": "stream",
     "text": [
      "bye\n"
     ]
    }
   ],
   "source": [
    "#(f) Change c[2]\n",
    "\n",
    "c[2]='bye'\n",
    "print(c[2]) #after changing"
   ]
  },
  {
   "cell_type": "code",
   "execution_count": 31,
   "metadata": {},
   "outputs": [
    {
     "name": "stdout",
     "output_type": "stream",
     "text": [
      "['aaa', 'hello', 'ccc', 'd']\n"
     ]
    }
   ],
   "source": [
    "#(g) What happened to a?\n",
    "print(a)\n",
    "# a values never got changed because we use a[:] so, It takes a copy of the tuple, instead of a reference to the tuple itself."
   ]
  },
  {
   "cell_type": "code",
   "execution_count": 32,
   "metadata": {},
   "outputs": [
    {
     "data": {
      "text/plain": [
       "[0, 'hello', 'ccc', 'd']"
      ]
     },
     "execution_count": 32,
     "metadata": {},
     "output_type": "execute_result"
    }
   ],
   "source": [
    "\n",
    "def set_first_elem_to_zero(l):\n",
    "    out=a\n",
    "    out[0]=0\n",
    "    return out\n",
    "\n",
    "set_first_elem_to_zero(a)"
   ]
  },
  {
   "cell_type": "code",
   "execution_count": 33,
   "metadata": {},
   "outputs": [
    {
     "name": "stdout",
     "output_type": "stream",
     "text": [
      "[0, 'hello', 'ccc', 'd']\n"
     ]
    }
   ],
   "source": [
    "print(a)\n",
    "# a values got changes because we make a function and change the [0] to 0."
   ]
  },
  {
   "cell_type": "markdown",
   "metadata": {},
   "source": [
    "# exercise 4.3: Lists of lists\n",
    "What is the difference between a and b: a = [[]] * 3\n",
    "b = [[] for _ in xrange(3)]"
   ]
  },
  {
   "cell_type": "code",
   "execution_count": 97,
   "metadata": {},
   "outputs": [
    {
     "name": "stdout",
     "output_type": "stream",
     "text": [
      "[[2], [2], [2]]\n"
     ]
    }
   ],
   "source": [
    "a = [[2]] * 3\n",
    "print(a)"
   ]
  },
  {
   "cell_type": "code",
   "execution_count": null,
   "metadata": {},
   "outputs": [],
   "source": [
    "b = [[2] for _ in xrange(3)]\n",
    "print (b)"
   ]
  },
  {
   "cell_type": "code",
   "execution_count": 34,
   "metadata": {},
   "outputs": [],
   "source": [
    "# i think they both will gives same answer but the method is different only \n",
    "\n"
   ]
  },
  {
   "cell_type": "markdown",
   "metadata": {},
   "source": [
    "# Exercise 4.4: Lists and functions\n",
    "Write a function that takes a list and an index, and sets the value of the list at the given index to 0."
   ]
  },
  {
   "cell_type": "code",
   "execution_count": 36,
   "metadata": {},
   "outputs": [
    {
     "name": "stdout",
     "output_type": "stream",
     "text": [
      "Before set the value to 0:  ['apple', 'banana', 'cherry']\n",
      "After set the value to 0:  ['apple', 'banana', 0]\n"
     ]
    }
   ],
   "source": [
    "li= ['apple','banana','cherry']\n",
    "def take_list(list1,index):\n",
    "    for i in list1:\n",
    "        list1[index]=0\n",
    "    return list1\n",
    "print('Before set the value to 0: ', li)\n",
    "print('After set the value to 0: ', take_list(li,2))"
   ]
  },
  {
   "cell_type": "markdown",
   "metadata": {},
   "source": [
    "# Exercise 4.5: Primes\n",
    "In Section 3 you wrote a function that prints all primes up to n, and a function that prints the first n primes. Update these functions such that they return lists instead."
   ]
  },
  {
   "cell_type": "code",
   "execution_count": 73,
   "metadata": {},
   "outputs": [
    {
     "data": {
      "text/plain": [
       "[[2], [3], [5], [7], [11], [13]]"
      ]
     },
     "execution_count": 73,
     "metadata": {},
     "output_type": "execute_result"
    }
   ],
   "source": [
    "def prime1(n):\n",
    "    pri=list([])\n",
    "    pri.append([2])\n",
    "    for num in range(3,n+1,2):\n",
    "        if all(num% i!=0 for i in range(2,int (num**.5) +1)):\n",
    "            pri.append([num])\n",
    "    return pri\n",
    "prime1(13)"
   ]
  },
  {
   "cell_type": "code",
   "execution_count": 69,
   "metadata": {},
   "outputs": [
    {
     "data": {
      "text/plain": [
       "[[2], [3], [5], [7], [11], [13], [17], [19], [23], [29]]"
      ]
     },
     "execution_count": 69,
     "metadata": {},
     "output_type": "execute_result"
    }
   ],
   "source": [
    "def isPrime(x):\n",
    "    prime =[]\n",
    "    \n",
    "    for i in range (2,10000):\n",
    "        for j in range (2,i):\n",
    "            if i%j==0:\n",
    "                break\n",
    "        else:\n",
    "                prime.append([i])\n",
    "                if len(prime)==x:\n",
    "                    return prime\n",
    "isPrime(10)"
   ]
  },
  {
   "cell_type": "markdown",
   "metadata": {},
   "source": [
    "# Exercise 4.6: List comprehensions\n",
    "Leti,j = 1,...,n\n",
    "(a) Generate a list with elements [i,j].\n",
    "(b) Generate a list with elements [i,j] with i < j\n",
    "(c) Generate a list with elements i + j with both i and j prime and i > j.\n",
    "(d) Write a function that evaluates an arbitrary polynomial a0 + a1x + a2x2 + . . . + anxn using a list comprehension, where you are given x and a list with coefficients coefs (hint: use enumerate)"
   ]
  },
  {
   "cell_type": "code",
   "execution_count": 90,
   "metadata": {},
   "outputs": [
    {
     "name": "stdout",
     "output_type": "stream",
     "text": [
      "Enter a value for i: 2\n",
      "Enter a value for j: 3\n",
      "[[1, 1], [1, 2], [1, 3], [2, 1], [2, 2], [2, 3]]\n"
     ]
    }
   ],
   "source": [
    "#a) Generate a list with elements [i,j].\n",
    "def listt():\n",
    "    i=eval(input(\"Enter a value for i: \"))\n",
    "    j=eval(input(\"Enter a value for j: \"))\n",
    "    combin =[[a,b]for a in range(1,i+1) for b in range (1,j+1)]\n",
    "    \n",
    "    print(combin , end=\"\\n\")\n",
    "listt()"
   ]
  },
  {
   "cell_type": "code",
   "execution_count": 92,
   "metadata": {},
   "outputs": [
    {
     "name": "stdout",
     "output_type": "stream",
     "text": [
      "Enter a value for i: 2\n",
      "Enter a value for j: 4\n",
      "[[1, 2], [1, 3], [1, 4], [2, 3], [2, 4]]\n"
     ]
    }
   ],
   "source": [
    "#b) Generate a list with elements [i,j] with i < j\n",
    "def listt():\n",
    "    i=eval(input(\"Enter a value for i: \"))\n",
    "    j=eval(input(\"Enter a value for j: \"))\n",
    "    combin2 =[[a,b] for a in range(1,i+1) for b in range (1,j+1) if a<b]\n",
    "    print(combin2 , end=\"\\n\")\n",
    "    \n",
    "listt()"
   ]
  },
  {
   "cell_type": "code",
   "execution_count": 95,
   "metadata": {},
   "outputs": [
    {
     "name": "stdout",
     "output_type": "stream",
     "text": [
      "Enter a value for i: 3\n",
      "Enter a value for j: 5\n",
      "[[2, 1], [3, 1], [3, 2]]\n"
     ]
    }
   ],
   "source": [
    "#c) Generate a list with elements i + j with both i and j prime and i > j.\n",
    "def prime(n):\n",
    "    multiples =[i for i in range (1,n//2+1) if n%i==0]\n",
    "    if len(multiples)>1:\n",
    "        return False\n",
    "    else:\n",
    "        return True\n",
    "def listt():\n",
    "    i=eval(input(\"Enter a value for i: \"))\n",
    "    j=eval(input(\"Enter a value for j: \"))\n",
    "    combin3 =[[x,y] for x in range(1,i+1) for y in range (1,j+1) if prime(x) and prime (y) and x>y]\n",
    "\n",
    "    print(combin3 , end=\"\\n\")\n",
    "    \n",
    "listt()"
   ]
  },
  {
   "cell_type": "code",
   "execution_count": 4,
   "metadata": {},
   "outputs": [
    {
     "name": "stdout",
     "output_type": "stream",
     "text": [
      "Enter x in the polynomial: 2\n",
      "Enter cofficients with spaces 2 3 4 \n",
      "Result of evaluation:  24.0\n"
     ]
    }
   ],
   "source": [
    "#(d) Write a function that evaluates an arbitrary polynomial a0 + a1x + a2x2 + . . . + anxn using a list comprehension, where you are given x and a list with coefficients coefs (hint: use enumerate)\n",
    "def evaluate():\n",
    "    x = float(input(\"Enter x in the polynomial: \"))\n",
    "    coff = list(map(float, input(\"Enter cofficients with spaces \").split()))\n",
    "    l = [coff[i]*x**i for i in range(len(coff))]\n",
    "    print(\"Result of evaluation: \",sum(l))\n",
    "evaluate()"
   ]
  },
  {
   "cell_type": "markdown",
   "metadata": {},
   "source": [
    "# Exercise 4.7: Filter\n",
    "In lecture we have seen how to implement map using list comprehensions. Implement filter using list comprehensions. Name your functions myfilter so you can compare with Python’s standard filter.\n"
   ]
  },
  {
   "cell_type": "code",
   "execution_count": 42,
   "metadata": {},
   "outputs": [],
   "source": [
    "#not covered in the class "
   ]
  },
  {
   "cell_type": "markdown",
   "metadata": {},
   "source": [
    "# Exercise 4.8: Flatten a list of lists\n",
    "Consider having a list with lists as elements, e.g. [[1,3], [3,6]].\n",
    "Write a function that takes such a list, and returns a list with as elements the elements of the sublists, e.g. [1, 3, 3, 6]."
   ]
  },
  {
   "cell_type": "code",
   "execution_count": 44,
   "metadata": {},
   "outputs": [
    {
     "name": "stdout",
     "output_type": "stream",
     "text": [
      "add your list with sublist:  [[1, 3], [3, 6]] \n",
      "\n",
      "this is new list: \n"
     ]
    },
    {
     "data": {
      "text/plain": [
       "[1, 3, 3, 6]"
      ]
     },
     "execution_count": 44,
     "metadata": {},
     "output_type": "execute_result"
    }
   ],
   "source": [
    "li=[[1,3], [3,6]]\n",
    "print(\"add your list with sublist: \", li, \"\\n\")\n",
    "def fun(li):\n",
    "    print(\"this is new list: \")\n",
    "    return li[0]+li[1]\n",
    "fun(li)"
   ]
  },
  {
   "cell_type": "markdown",
   "metadata": {},
   "source": [
    "# Exercise 4.9: Finding the longest word\n",
    "Write a function that returns the longest word in a variable text that contains a sentence. While text may contain punctuation, these should not be taken into account. What happens with ties?\n",
    "As an example, consider: “Hello, how was the football match earlier today???”"
   ]
  },
  {
   "cell_type": "code",
   "execution_count": 8,
   "metadata": {},
   "outputs": [
    {
     "name": "stdout",
     "output_type": "stream",
     "text": [
      "Enter the sentence to check the longest word: yello bello helloo\n",
      "longest word is:  helloo\n",
      "helloo has  6 character\n"
     ]
    }
   ],
   "source": [
    "sentence =input(\"Enter the sentence to check the longest word: \")\n",
    "longword = max(sentence.split(),key =len)\n",
    "\n",
    "print ('longest word is: ',longword)\n",
    "print(longword,'has ', len(longword), 'character')\n",
    "\n",
    "\n"
   ]
  },
  {
   "cell_type": "code",
   "execution_count": null,
   "metadata": {},
   "outputs": [],
   "source": []
  }
 ],
 "metadata": {
  "kernelspec": {
   "display_name": "Python 3",
   "language": "python",
   "name": "python3"
  },
  "language_info": {
   "codemirror_mode": {
    "name": "ipython",
    "version": 3
   },
   "file_extension": ".py",
   "mimetype": "text/x-python",
   "name": "python",
   "nbconvert_exporter": "python",
   "pygments_lexer": "ipython3",
   "version": "3.8.3"
  }
 },
 "nbformat": 4,
 "nbformat_minor": 4
}
