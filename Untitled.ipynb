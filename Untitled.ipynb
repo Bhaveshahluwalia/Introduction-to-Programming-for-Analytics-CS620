{
 "cells": [
  {
   "cell_type": "code",
   "execution_count": 3,
   "metadata": {},
   "outputs": [
    {
     "data": {
      "text/plain": [
       "[[2], [3], [5], [7], [11], [13]]"
      ]
     },
     "execution_count": 3,
     "metadata": {},
     "output_type": "execute_result"
    }
   ],
   "source": [
    "def prime1(n):\n",
    "    pri=list()\n",
    "    pri.append([2])\n",
    "    for num in range(3,n+1,2):\n",
    "        if all(num% i!=0 for i in range(2,int (num**.5) +1)):\n",
    "            pri.append([num])\n",
    "    return pri\n",
    "prime1(13)"
   ]
  },
  {
   "cell_type": "code",
   "execution_count": null,
   "metadata": {},
   "outputs": [],
   "source": []
  }
 ],
 "metadata": {
  "kernelspec": {
   "display_name": "Python 3",
   "language": "python",
   "name": "python3"
  },
  "language_info": {
   "codemirror_mode": {
    "name": "ipython",
    "version": 3
   },
   "file_extension": ".py",
   "mimetype": "text/x-python",
   "name": "python",
   "nbconvert_exporter": "python",
   "pygments_lexer": "ipython3",
   "version": "3.8.3"
  }
 },
 "nbformat": 4,
 "nbformat_minor": 4
}
